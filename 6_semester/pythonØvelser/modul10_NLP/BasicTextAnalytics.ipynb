{
 "nbformat": 4,
 "nbformat_minor": 0,
 "metadata": {
  "colab": {
   "provenance": []
  },
  "kernelspec": {
   "name": "python3",
   "language": "python",
   "display_name": "Python 3 (ipykernel)"
  },
  "language_info": {
   "name": "python"
  }
 },
 "cells": [
  {
   "cell_type": "code",
   "execution_count": null,
   "metadata": {
    "id": "F5HSiEcYLQ0F",
    "is_executing": true
   },
   "outputs": [],
   "source": [
    "# Basic text analytics.\n",
    "# Sila 18 November 2022\n",
    "#\n",
    "# From \"Blueprints for Text Analytics by Albrecht, Ramachandran & Winkler\"\n",
    "# and\n",
    "# Using Gensim for Text similiarity scores"
   ]
  },
  {
   "cell_type": "code",
   "outputs": [
    {
     "name": "stderr",
     "output_type": "stream",
     "text": [
      "Python blev ikke fundet; kør uden argumenter for at installere fra Microsoft Store, eller deaktiver denne genvej fra Indstillinger > Administrer appens kørsels aliasser.\n"
     ]
    }
   ],
   "source": [
    "!python -m spacy download en_core_web_sm "
   ],
   "metadata": {
    "collapsed": false,
    "ExecuteTime": {
     "end_time": "2024-04-11T13:01:51.979049Z",
     "start_time": "2024-04-11T13:01:51.667378Z"
    }
   },
   "execution_count": 1
  },
  {
   "cell_type": "code",
   "source": [
    "import re"
   ],
   "metadata": {
    "id": "s7-BGyBfMAWN",
    "ExecuteTime": {
     "end_time": "2024-04-11T13:02:09.386610Z",
     "start_time": "2024-04-11T13:02:09.380620Z"
    }
   },
   "execution_count": 2,
   "outputs": []
  },
  {
   "cell_type": "code",
   "source": [
    "text = \"\"\"\n",
    "2019-08-10 23:32: @pete/@louis - I don't have a well-designed \n",
    "solution for today's problem. The code of module AC68 should be -1. \n",
    "Have to think a bit... #goodnight ;-) 😩😬\"\"\""
   ],
   "metadata": {
    "id": "6uQYYnroMYDc",
    "ExecuteTime": {
     "end_time": "2024-04-11T13:02:12.590029Z",
     "start_time": "2024-04-11T13:02:12.581023Z"
    }
   },
   "execution_count": 3,
   "outputs": []
  },
  {
   "cell_type": "code",
   "source": [
    "tokens = re.findall(r'\\w\\w+', text)\n",
    "print(*tokens, sep='|')"
   ],
   "metadata": {
    "colab": {
     "base_uri": "https://localhost:8080/"
    },
    "id": "JIRadQBhMy7n",
    "outputId": "dfb75748-0bfd-48b3-a29f-5c3e260cf895",
    "ExecuteTime": {
     "end_time": "2024-04-11T13:02:13.537003Z",
     "start_time": "2024-04-11T13:02:13.529168Z"
    }
   },
   "execution_count": 4,
   "outputs": [
    {
     "name": "stdout",
     "output_type": "stream",
     "text": [
      "2019|08|10|23|32|pete|louis|don|have|well|designed|solution|for|today|problem|The|code|of|module|AC68|should|be|Have|to|think|bit|goodnight\n"
     ]
    }
   ]
  },
  {
   "cell_type": "code",
   "source": [
    "RE_TOKEN = re.compile(r\"\"\"\n",
    "               ( [#]?[@\\w'’\\.\\-\\:]*\\w     # words, hash tags and email adresses\n",
    "               | [:;<]\\-?[\\)\\(3]          # coarse pattern for basic text emojis\n",
    "               | [\\U0001F100-\\U0001FFFF]  # coarse code range for unicode emojis\n",
    "               )\n",
    "               \"\"\", re.VERBOSE)\n",
    "\n",
    "def tokenize(text):\n",
    "    return RE_TOKEN.findall(text)\n",
    "\n",
    "tokens = tokenize(text)\n",
    "print(*tokens, sep='|')"
   ],
   "metadata": {
    "colab": {
     "base_uri": "https://localhost:8080/"
    },
    "id": "P7GN114UM4Cs",
    "outputId": "2bd6df23-4a5e-499e-83f2-cf7df7325372",
    "ExecuteTime": {
     "end_time": "2024-04-11T13:02:14.394197Z",
     "start_time": "2024-04-11T13:02:14.383280Z"
    }
   },
   "execution_count": 5,
   "outputs": [
    {
     "name": "stdout",
     "output_type": "stream",
     "text": [
      "2019-08-10|23:32|@pete|@louis|I|don't|have|a|well-designed|solution|for|today's|problem|The|code|of|module|AC68|should|be|-1|Have|to|think|a|bit|#goodnight|;-)|😩|😬\n"
     ]
    }
   ]
  },
  {
   "cell_type": "code",
   "source": [
    "import nltk\n",
    "\n",
    "nltk.download('punkt') ###\n",
    "tokens = nltk.tokenize.word_tokenize(text)\n",
    "print(*tokens, sep='|')"
   ],
   "metadata": {
    "colab": {
     "base_uri": "https://localhost:8080/"
    },
    "id": "zjHoFyTZNBu6",
    "outputId": "080facb7-b7a7-49e0-9736-a1711e3e1385",
    "ExecuteTime": {
     "end_time": "2024-04-11T13:04:40.238094Z",
     "start_time": "2024-04-11T13:04:38.987123Z"
    }
   },
   "execution_count": 6,
   "outputs": [
    {
     "name": "stdout",
     "output_type": "stream",
     "text": [
      "2019-08-10|23:32|:|@|pete/|@|louis|-|I|do|n't|have|a|well-designed|solution|for|today|'s|problem|.|The|code|of|module|AC68|should|be|-1|.|Have|to|think|a|bit|...|#|goodnight|;|-|)|😩😬\n"
     ]
    },
    {
     "name": "stderr",
     "output_type": "stream",
     "text": [
      "[nltk_data] Downloading package punkt to\n",
      "[nltk_data]     C:\\Users\\lynge\\AppData\\Roaming\\nltk_data...\n",
      "[nltk_data]   Package punkt is already up-to-date!\n"
     ]
    }
   ]
  },
  {
   "cell_type": "code",
   "source": [
    "# With SpaCy"
   ],
   "metadata": {
    "id": "Gn_nF42hNKRA",
    "ExecuteTime": {
     "end_time": "2024-04-11T13:04:40.917988Z",
     "start_time": "2024-04-11T13:04:40.912614Z"
    }
   },
   "execution_count": 7,
   "outputs": []
  },
  {
   "cell_type": "code",
   "source": [
    "import spacy\n",
    "nlp = spacy.load('en_core_web_sm')"
   ],
   "metadata": {
    "id": "mEoLtAp_NYk-",
    "ExecuteTime": {
     "end_time": "2024-04-11T13:18:19.662049Z",
     "start_time": "2024-04-11T13:18:17.576211Z"
    }
   },
   "execution_count": 1,
   "outputs": []
  },
  {
   "cell_type": "code",
   "source": [
    "text = \"My best friend Ryan Peters likes fancy adventure games.\"\n",
    "doc = nlp(text)"
   ],
   "metadata": {
    "id": "_HotGqJHNcjw",
    "ExecuteTime": {
     "end_time": "2024-04-11T13:18:21.934426Z",
     "start_time": "2024-04-11T13:18:21.872363Z"
    }
   },
   "execution_count": 2,
   "outputs": []
  },
  {
   "cell_type": "code",
   "source": [
    "for token in doc:\n",
    "    print(token, end=\"|\")"
   ],
   "metadata": {
    "colab": {
     "base_uri": "https://localhost:8080/"
    },
    "id": "liFtqO0ZNr0f",
    "outputId": "09509b8a-8c28-4c28-eb99-37976f17696b",
    "ExecuteTime": {
     "end_time": "2024-04-11T13:18:23.669947Z",
     "start_time": "2024-04-11T13:18:23.663129Z"
    }
   },
   "execution_count": 3,
   "outputs": [
    {
     "name": "stdout",
     "output_type": "stream",
     "text": [
      "My|best|friend|Ryan|Peters|likes|fancy|adventure|games|.|"
     ]
    }
   ]
  },
  {
   "cell_type": "code",
   "source": [
    "# Stop words"
   ],
   "metadata": {
    "id": "H5pKkQ5hN0Ab",
    "ExecuteTime": {
     "end_time": "2024-04-11T13:18:24.809880Z",
     "start_time": "2024-04-11T13:18:24.805891Z"
    }
   },
   "execution_count": 4,
   "outputs": []
  },
  {
   "cell_type": "code",
   "source": [
    "text = \"Dear Ryan, we need to sit down and talk. Regards, Pete\"\n",
    "doc = nlp(text)\n",
    "\n",
    "non_stop = [t for t in doc if not t.is_stop and not t.is_punct]\n",
    "print(non_stop)"
   ],
   "metadata": {
    "colab": {
     "base_uri": "https://localhost:8080/"
    },
    "id": "ZAx3dtomN2HV",
    "outputId": "8587ed8c-4107-49ba-e46a-48accbc64151",
    "ExecuteTime": {
     "end_time": "2024-04-11T13:18:25.534061Z",
     "start_time": "2024-04-11T13:18:25.506620Z"
    }
   },
   "execution_count": 5,
   "outputs": [
    {
     "name": "stdout",
     "output_type": "stream",
     "text": [
      "[Dear, Ryan, need, sit, talk, Regards, Pete]\n"
     ]
    }
   ]
  },
  {
   "cell_type": "code",
   "source": [
    "# Lemmas"
   ],
   "metadata": {
    "id": "a6mdywneOGco",
    "ExecuteTime": {
     "end_time": "2024-04-11T13:18:28.153617Z",
     "start_time": "2024-04-11T13:18:28.148286Z"
    }
   },
   "execution_count": 6,
   "outputs": []
  },
  {
   "cell_type": "code",
   "source": [
    "print(*[t.lemma_ for t in doc], sep='|')"
   ],
   "metadata": {
    "colab": {
     "base_uri": "https://localhost:8080/"
    },
    "id": "n5sW_C37OJEZ",
    "outputId": "23a13d83-8011-4608-cc80-f5527d8f2102",
    "ExecuteTime": {
     "end_time": "2024-04-11T13:18:28.864698Z",
     "start_time": "2024-04-11T13:18:28.856773Z"
    }
   },
   "execution_count": 7,
   "outputs": [
    {
     "name": "stdout",
     "output_type": "stream",
     "text": [
      "Dear|Ryan|,|we|need|to|sit|down|and|talk|.|regard|,|Pete\n"
     ]
    }
   ]
  },
  {
   "cell_type": "code",
   "source": [
    "# Extracting Named Entities"
   ],
   "metadata": {
    "id": "rx5D-_XcOM0h",
    "ExecuteTime": {
     "end_time": "2024-04-11T13:18:29.870470Z",
     "start_time": "2024-04-11T13:18:29.865040Z"
    }
   },
   "execution_count": 8,
   "outputs": []
  },
  {
   "cell_type": "code",
   "source": [
    "text = \"James O'Neill, chairman of World Cargo Inc, lives in San Francisco.\"\n",
    "doc = nlp(text)\n",
    "\n",
    "for ent in doc.ents:\n",
    "    print(f\"({ent.text}, {ent.label_})\", end=\" \")"
   ],
   "metadata": {
    "colab": {
     "base_uri": "https://localhost:8080/"
    },
    "id": "AN_TA3kiOfFc",
    "outputId": "0c44fb2e-07b5-4133-c5b9-9bb43312d1ac",
    "ExecuteTime": {
     "end_time": "2024-04-11T13:18:30.627912Z",
     "start_time": "2024-04-11T13:18:30.606479Z"
    }
   },
   "execution_count": 9,
   "outputs": [
    {
     "name": "stdout",
     "output_type": "stream",
     "text": [
      "(James O'Neill, PERSON) (World Cargo Inc, ORG) (San Francisco, GPE) "
     ]
    }
   ]
  },
  {
   "cell_type": "code",
   "source": [
    "# Using Gensim to make Predictions.\n",
    "#\n",
    "# Text similiarity scores"
   ],
   "metadata": {
    "id": "hUiVwI8iPP_C",
    "ExecuteTime": {
     "end_time": "2024-04-11T13:18:32.566474Z",
     "start_time": "2024-04-11T13:18:32.561160Z"
    }
   },
   "execution_count": 10,
   "outputs": []
  },
  {
   "cell_type": "code",
   "source": [
    "from gensim import corpora, models, similarities\n",
    "import jieba"
   ],
   "metadata": {
    "id": "EqxCLGjObAD2",
    "ExecuteTime": {
     "end_time": "2024-04-11T13:20:32.506283Z",
     "start_time": "2024-04-11T13:20:28.979741Z"
    }
   },
   "execution_count": 11,
   "outputs": [
    {
     "ename": "ImportError",
     "evalue": "cannot import name 'triu' from 'scipy.linalg' (C:\\Users\\lynge\\Desktop\\kodeOpgaver\\6_semester\\pythonØvelser\\.venv\\Lib\\site-packages\\scipy\\linalg\\__init__.py)",
     "output_type": "error",
     "traceback": [
      "\u001B[1;31m---------------------------------------------------------------------------\u001B[0m",
      "\u001B[1;31mImportError\u001B[0m                               Traceback (most recent call last)",
      "Cell \u001B[1;32mIn[11], line 1\u001B[0m\n\u001B[1;32m----> 1\u001B[0m \u001B[38;5;28;01mfrom\u001B[39;00m \u001B[38;5;21;01mgensim\u001B[39;00m \u001B[38;5;28;01mimport\u001B[39;00m corpora, models, similarities\n\u001B[0;32m      2\u001B[0m \u001B[38;5;28;01mimport\u001B[39;00m \u001B[38;5;21;01mjieba\u001B[39;00m\n",
      "File \u001B[1;32m~\\Desktop\\kodeOpgaver\\6_semester\\pythonØvelser\\.venv\\Lib\\site-packages\\gensim\\__init__.py:11\u001B[0m\n\u001B[0;32m      7\u001B[0m __version__ \u001B[38;5;241m=\u001B[39m \u001B[38;5;124m'\u001B[39m\u001B[38;5;124m4.3.2\u001B[39m\u001B[38;5;124m'\u001B[39m\n\u001B[0;32m      9\u001B[0m \u001B[38;5;28;01mimport\u001B[39;00m \u001B[38;5;21;01mlogging\u001B[39;00m\n\u001B[1;32m---> 11\u001B[0m \u001B[38;5;28;01mfrom\u001B[39;00m \u001B[38;5;21;01mgensim\u001B[39;00m \u001B[38;5;28;01mimport\u001B[39;00m parsing, corpora, matutils, interfaces, models, similarities, utils  \u001B[38;5;66;03m# noqa:F401\u001B[39;00m\n\u001B[0;32m     14\u001B[0m logger \u001B[38;5;241m=\u001B[39m logging\u001B[38;5;241m.\u001B[39mgetLogger(\u001B[38;5;124m'\u001B[39m\u001B[38;5;124mgensim\u001B[39m\u001B[38;5;124m'\u001B[39m)\n\u001B[0;32m     15\u001B[0m \u001B[38;5;28;01mif\u001B[39;00m \u001B[38;5;129;01mnot\u001B[39;00m logger\u001B[38;5;241m.\u001B[39mhandlers:  \u001B[38;5;66;03m# To ensure reload() doesn't add another one\u001B[39;00m\n",
      "File \u001B[1;32m~\\Desktop\\kodeOpgaver\\6_semester\\pythonØvelser\\.venv\\Lib\\site-packages\\gensim\\corpora\\__init__.py:6\u001B[0m\n\u001B[0;32m      1\u001B[0m \u001B[38;5;124;03m\"\"\"\u001B[39;00m\n\u001B[0;32m      2\u001B[0m \u001B[38;5;124;03mThis package contains implementations of various streaming corpus I/O format.\u001B[39;00m\n\u001B[0;32m      3\u001B[0m \u001B[38;5;124;03m\"\"\"\u001B[39;00m\n\u001B[0;32m      5\u001B[0m \u001B[38;5;66;03m# bring corpus classes directly into package namespace, to save some typing\u001B[39;00m\n\u001B[1;32m----> 6\u001B[0m \u001B[38;5;28;01mfrom\u001B[39;00m \u001B[38;5;21;01m.\u001B[39;00m\u001B[38;5;21;01mindexedcorpus\u001B[39;00m \u001B[38;5;28;01mimport\u001B[39;00m IndexedCorpus  \u001B[38;5;66;03m# noqa:F401 must appear before the other classes\u001B[39;00m\n\u001B[0;32m      8\u001B[0m \u001B[38;5;28;01mfrom\u001B[39;00m \u001B[38;5;21;01m.\u001B[39;00m\u001B[38;5;21;01mmmcorpus\u001B[39;00m \u001B[38;5;28;01mimport\u001B[39;00m MmCorpus  \u001B[38;5;66;03m# noqa:F401\u001B[39;00m\n\u001B[0;32m      9\u001B[0m \u001B[38;5;28;01mfrom\u001B[39;00m \u001B[38;5;21;01m.\u001B[39;00m\u001B[38;5;21;01mbleicorpus\u001B[39;00m \u001B[38;5;28;01mimport\u001B[39;00m BleiCorpus  \u001B[38;5;66;03m# noqa:F401\u001B[39;00m\n",
      "File \u001B[1;32m~\\Desktop\\kodeOpgaver\\6_semester\\pythonØvelser\\.venv\\Lib\\site-packages\\gensim\\corpora\\indexedcorpus.py:14\u001B[0m\n\u001B[0;32m     10\u001B[0m \u001B[38;5;28;01mimport\u001B[39;00m \u001B[38;5;21;01mlogging\u001B[39;00m\n\u001B[0;32m     12\u001B[0m \u001B[38;5;28;01mimport\u001B[39;00m \u001B[38;5;21;01mnumpy\u001B[39;00m\n\u001B[1;32m---> 14\u001B[0m \u001B[38;5;28;01mfrom\u001B[39;00m \u001B[38;5;21;01mgensim\u001B[39;00m \u001B[38;5;28;01mimport\u001B[39;00m interfaces, utils\n\u001B[0;32m     16\u001B[0m logger \u001B[38;5;241m=\u001B[39m logging\u001B[38;5;241m.\u001B[39mgetLogger(\u001B[38;5;18m__name__\u001B[39m)\n\u001B[0;32m     19\u001B[0m \u001B[38;5;28;01mclass\u001B[39;00m \u001B[38;5;21;01mIndexedCorpus\u001B[39;00m(interfaces\u001B[38;5;241m.\u001B[39mCorpusABC):\n",
      "File \u001B[1;32m~\\Desktop\\kodeOpgaver\\6_semester\\pythonØvelser\\.venv\\Lib\\site-packages\\gensim\\interfaces.py:19\u001B[0m\n\u001B[0;32m      7\u001B[0m \u001B[38;5;124;03m\"\"\"Basic interfaces used across the whole Gensim package.\u001B[39;00m\n\u001B[0;32m      8\u001B[0m \n\u001B[0;32m      9\u001B[0m \u001B[38;5;124;03mThese interfaces are used for building corpora, model transformation and similarity queries.\u001B[39;00m\n\u001B[1;32m   (...)\u001B[0m\n\u001B[0;32m     14\u001B[0m \n\u001B[0;32m     15\u001B[0m \u001B[38;5;124;03m\"\"\"\u001B[39;00m\n\u001B[0;32m     17\u001B[0m \u001B[38;5;28;01mimport\u001B[39;00m \u001B[38;5;21;01mlogging\u001B[39;00m\n\u001B[1;32m---> 19\u001B[0m \u001B[38;5;28;01mfrom\u001B[39;00m \u001B[38;5;21;01mgensim\u001B[39;00m \u001B[38;5;28;01mimport\u001B[39;00m utils, matutils\n\u001B[0;32m     22\u001B[0m logger \u001B[38;5;241m=\u001B[39m logging\u001B[38;5;241m.\u001B[39mgetLogger(\u001B[38;5;18m__name__\u001B[39m)\n\u001B[0;32m     25\u001B[0m \u001B[38;5;28;01mclass\u001B[39;00m \u001B[38;5;21;01mCorpusABC\u001B[39;00m(utils\u001B[38;5;241m.\u001B[39mSaveLoad):\n",
      "File \u001B[1;32m~\\Desktop\\kodeOpgaver\\6_semester\\pythonØvelser\\.venv\\Lib\\site-packages\\gensim\\matutils.py:20\u001B[0m\n\u001B[0;32m     18\u001B[0m \u001B[38;5;28;01mimport\u001B[39;00m \u001B[38;5;21;01mscipy\u001B[39;00m\u001B[38;5;21;01m.\u001B[39;00m\u001B[38;5;21;01msparse\u001B[39;00m\n\u001B[0;32m     19\u001B[0m \u001B[38;5;28;01mfrom\u001B[39;00m \u001B[38;5;21;01mscipy\u001B[39;00m\u001B[38;5;21;01m.\u001B[39;00m\u001B[38;5;21;01mstats\u001B[39;00m \u001B[38;5;28;01mimport\u001B[39;00m entropy\n\u001B[1;32m---> 20\u001B[0m \u001B[38;5;28;01mfrom\u001B[39;00m \u001B[38;5;21;01mscipy\u001B[39;00m\u001B[38;5;21;01m.\u001B[39;00m\u001B[38;5;21;01mlinalg\u001B[39;00m \u001B[38;5;28;01mimport\u001B[39;00m get_blas_funcs, triu\n\u001B[0;32m     21\u001B[0m \u001B[38;5;28;01mfrom\u001B[39;00m \u001B[38;5;21;01mscipy\u001B[39;00m\u001B[38;5;21;01m.\u001B[39;00m\u001B[38;5;21;01mlinalg\u001B[39;00m\u001B[38;5;21;01m.\u001B[39;00m\u001B[38;5;21;01mlapack\u001B[39;00m \u001B[38;5;28;01mimport\u001B[39;00m get_lapack_funcs\n\u001B[0;32m     22\u001B[0m \u001B[38;5;28;01mfrom\u001B[39;00m \u001B[38;5;21;01mscipy\u001B[39;00m\u001B[38;5;21;01m.\u001B[39;00m\u001B[38;5;21;01mspecial\u001B[39;00m \u001B[38;5;28;01mimport\u001B[39;00m psi  \u001B[38;5;66;03m# gamma function utils\u001B[39;00m\n",
      "\u001B[1;31mImportError\u001B[0m: cannot import name 'triu' from 'scipy.linalg' (C:\\Users\\lynge\\Desktop\\kodeOpgaver\\6_semester\\pythonØvelser\\.venv\\Lib\\site-packages\\scipy\\linalg\\__init__.py)"
     ]
    }
   ]
  },
  {
   "cell_type": "code",
   "source": [
    "texts = ['I love reading Japanese novels. My favorite Japanese writer is Tanizaki Junichiro.',\n",
    "         'Natsume Soseki is a well-known Japanese novelist and his Kokoro is a masterpiece.',\n",
    "         'American modern poetry is good. ']"
   ],
   "metadata": {
    "id": "-kJdpQ1WbMbu",
    "ExecuteTime": {
     "end_time": "2024-04-11T13:20:39.717340Z",
     "start_time": "2024-04-11T13:20:39.712264Z"
    }
   },
   "execution_count": 12,
   "outputs": []
  },
  {
   "cell_type": "code",
   "source": [
    "keyword = 'Japan has some great novelists. Who is your favorite Japanese writer?'"
   ],
   "metadata": {
    "id": "rJ9PnsJ6bcWG",
    "ExecuteTime": {
     "end_time": "2024-04-11T13:20:45.259042Z",
     "start_time": "2024-04-11T13:20:45.253079Z"
    }
   },
   "execution_count": 13,
   "outputs": []
  },
  {
   "cell_type": "code",
   "source": [
    "# jieba is a text segmentation Python module for cutting the words \n",
    "# into segmentations for easier analysis of text similarity in the future.)"
   ],
   "metadata": {
    "id": "PlfmvRCNeyVU",
    "ExecuteTime": {
     "end_time": "2024-04-11T13:20:46.182245Z",
     "start_time": "2024-04-11T13:20:46.178094Z"
    }
   },
   "execution_count": 14,
   "outputs": []
  },
  {
   "cell_type": "code",
   "source": [
    "texts = [jieba.lcut(text) for text in texts]\n",
    "dictionary = corpora.Dictionary(texts)\n",
    "feature_cnt = len(dictionary.token2id)"
   ],
   "metadata": {
    "id": "p1RmKn5ibeAc",
    "ExecuteTime": {
     "end_time": "2024-04-11T13:20:46.874316Z",
     "start_time": "2024-04-11T13:20:46.834363Z"
    }
   },
   "execution_count": 15,
   "outputs": [
    {
     "ename": "NameError",
     "evalue": "name 'jieba' is not defined",
     "output_type": "error",
     "traceback": [
      "\u001B[1;31m---------------------------------------------------------------------------\u001B[0m",
      "\u001B[1;31mNameError\u001B[0m                                 Traceback (most recent call last)",
      "Cell \u001B[1;32mIn[15], line 1\u001B[0m\n\u001B[1;32m----> 1\u001B[0m texts \u001B[38;5;241m=\u001B[39m \u001B[43m[\u001B[49m\u001B[43mjieba\u001B[49m\u001B[38;5;241;43m.\u001B[39;49m\u001B[43mlcut\u001B[49m\u001B[43m(\u001B[49m\u001B[43mtext\u001B[49m\u001B[43m)\u001B[49m\u001B[43m \u001B[49m\u001B[38;5;28;43;01mfor\u001B[39;49;00m\u001B[43m \u001B[49m\u001B[43mtext\u001B[49m\u001B[43m \u001B[49m\u001B[38;5;129;43;01min\u001B[39;49;00m\u001B[43m \u001B[49m\u001B[43mtexts\u001B[49m\u001B[43m]\u001B[49m\n\u001B[0;32m      2\u001B[0m dictionary \u001B[38;5;241m=\u001B[39m corpora\u001B[38;5;241m.\u001B[39mDictionary(texts)\n\u001B[0;32m      3\u001B[0m feature_cnt \u001B[38;5;241m=\u001B[39m \u001B[38;5;28mlen\u001B[39m(dictionary\u001B[38;5;241m.\u001B[39mtoken2id)\n",
      "Cell \u001B[1;32mIn[15], line 1\u001B[0m, in \u001B[0;36m<listcomp>\u001B[1;34m(.0)\u001B[0m\n\u001B[1;32m----> 1\u001B[0m texts \u001B[38;5;241m=\u001B[39m [\u001B[43mjieba\u001B[49m\u001B[38;5;241m.\u001B[39mlcut(text) \u001B[38;5;28;01mfor\u001B[39;00m text \u001B[38;5;129;01min\u001B[39;00m texts]\n\u001B[0;32m      2\u001B[0m dictionary \u001B[38;5;241m=\u001B[39m corpora\u001B[38;5;241m.\u001B[39mDictionary(texts)\n\u001B[0;32m      3\u001B[0m feature_cnt \u001B[38;5;241m=\u001B[39m \u001B[38;5;28mlen\u001B[39m(dictionary\u001B[38;5;241m.\u001B[39mtoken2id)\n",
      "\u001B[1;31mNameError\u001B[0m: name 'jieba' is not defined"
     ]
    }
   ]
  },
  {
   "cell_type": "code",
   "source": [
    "corpus = [dictionary.doc2bow(text) for text in texts]"
   ],
   "metadata": {
    "id": "PD1LMTcibyxD",
    "ExecuteTime": {
     "end_time": "2024-04-11T13:20:48.283184Z",
     "start_time": "2024-04-11T13:20:48.232738Z"
    }
   },
   "execution_count": 16,
   "outputs": [
    {
     "ename": "NameError",
     "evalue": "name 'dictionary' is not defined",
     "output_type": "error",
     "traceback": [
      "\u001B[1;31m---------------------------------------------------------------------------\u001B[0m",
      "\u001B[1;31mNameError\u001B[0m                                 Traceback (most recent call last)",
      "Cell \u001B[1;32mIn[16], line 1\u001B[0m\n\u001B[1;32m----> 1\u001B[0m corpus \u001B[38;5;241m=\u001B[39m \u001B[43m[\u001B[49m\u001B[43mdictionary\u001B[49m\u001B[38;5;241;43m.\u001B[39;49m\u001B[43mdoc2bow\u001B[49m\u001B[43m(\u001B[49m\u001B[43mtext\u001B[49m\u001B[43m)\u001B[49m\u001B[43m \u001B[49m\u001B[38;5;28;43;01mfor\u001B[39;49;00m\u001B[43m \u001B[49m\u001B[43mtext\u001B[49m\u001B[43m \u001B[49m\u001B[38;5;129;43;01min\u001B[39;49;00m\u001B[43m \u001B[49m\u001B[43mtexts\u001B[49m\u001B[43m]\u001B[49m\n",
      "Cell \u001B[1;32mIn[16], line 1\u001B[0m, in \u001B[0;36m<listcomp>\u001B[1;34m(.0)\u001B[0m\n\u001B[1;32m----> 1\u001B[0m corpus \u001B[38;5;241m=\u001B[39m [\u001B[43mdictionary\u001B[49m\u001B[38;5;241m.\u001B[39mdoc2bow(text) \u001B[38;5;28;01mfor\u001B[39;00m text \u001B[38;5;129;01min\u001B[39;00m texts]\n",
      "\u001B[1;31mNameError\u001B[0m: name 'dictionary' is not defined"
     ]
    }
   ]
  },
  {
   "cell_type": "code",
   "source": [
    "tfidf = models.TfidfModel(corpus) "
   ],
   "metadata": {
    "id": "Dl7Sjhshb4bL",
    "ExecuteTime": {
     "end_time": "2024-04-11T13:20:48.894353Z",
     "start_time": "2024-04-11T13:20:48.871142Z"
    }
   },
   "execution_count": 17,
   "outputs": [
    {
     "ename": "NameError",
     "evalue": "name 'models' is not defined",
     "output_type": "error",
     "traceback": [
      "\u001B[1;31m---------------------------------------------------------------------------\u001B[0m",
      "\u001B[1;31mNameError\u001B[0m                                 Traceback (most recent call last)",
      "Cell \u001B[1;32mIn[17], line 1\u001B[0m\n\u001B[1;32m----> 1\u001B[0m tfidf \u001B[38;5;241m=\u001B[39m \u001B[43mmodels\u001B[49m\u001B[38;5;241m.\u001B[39mTfidfModel(corpus) \n",
      "\u001B[1;31mNameError\u001B[0m: name 'models' is not defined"
     ]
    }
   ]
  },
  {
   "cell_type": "code",
   "source": [
    "kw_vector = dictionary.doc2bow(jieba.lcut(keyword))"
   ],
   "metadata": {
    "id": "KJNUqAhhb-85"
   },
   "execution_count": 88,
   "outputs": []
  },
  {
   "cell_type": "code",
   "source": [
    "index = similarities.SparseMatrixSimilarity(tfidf[corpus], num_features = feature_cnt)"
   ],
   "metadata": {
    "id": "BdgHbleJcDZG"
   },
   "execution_count": 89,
   "outputs": []
  },
  {
   "cell_type": "code",
   "source": [
    "sim = index[tfidf[kw_vector]]"
   ],
   "metadata": {
    "id": "xQfSSI44cHlE"
   },
   "execution_count": 90,
   "outputs": []
  },
  {
   "cell_type": "code",
   "source": [
    "for i in range(len(sim)):\n",
    "    print('keyword is similar to text%d: %.2f' % (i + 1, sim[i]))"
   ],
   "metadata": {
    "colab": {
     "base_uri": "https://localhost:8080/"
    },
    "id": "HSVtzkCQcMCQ",
    "outputId": "bd8f5cce-753e-43cc-a86b-623f420ffa59"
   },
   "execution_count": 91,
   "outputs": [
    {
     "output_type": "stream",
     "name": "stdout",
     "text": [
      "keyword is similar to text1: 0.50\n",
      "keyword is similar to text2: 0.02\n",
      "keyword is similar to text3: 0.00\n"
     ]
    }
   ]
  },
  {
   "cell_type": "code",
   "source": [
    "texts = ['Du er uddannet i kommunikation', \n",
    "'Du har mindst 3 års erfaring med e-mailmarketing fra et reklamebureau eller en større virksomhed', \n",
    "'Du er vant til at analysere resultaterne af din egen markedsføringsindsats']"
   ],
   "metadata": {
    "id": "_6l47SW_gWT-"
   },
   "execution_count": 148,
   "outputs": []
  },
  {
   "cell_type": "code",
   "source": [
    "keyword = 'Analyse af markedsførings resultater er lige dig'"
   ],
   "metadata": {
    "id": "vW_a8Zzrg1Ah"
   },
   "execution_count": 149,
   "outputs": []
  },
  {
   "cell_type": "code",
   "source": [
    "texts = [jieba.lcut(text) for text in texts]\n",
    "dictionary = corpora.Dictionary(texts)\n",
    "feature_cnt = len(dictionary.token2id)"
   ],
   "metadata": {
    "id": "kBU7NARmhE6z"
   },
   "execution_count": 150,
   "outputs": []
  },
  {
   "cell_type": "code",
   "source": [
    "corpus = [dictionary.doc2bow(text) for text in texts]"
   ],
   "metadata": {
    "id": "JTobL29rhIZr"
   },
   "execution_count": 151,
   "outputs": []
  },
  {
   "cell_type": "code",
   "source": [
    "tfidf = models.TfidfModel(corpus) "
   ],
   "metadata": {
    "id": "wAfRNOhehNQz"
   },
   "execution_count": 152,
   "outputs": []
  },
  {
   "cell_type": "code",
   "source": [
    "kw_vector = dictionary.doc2bow(jieba.lcut(keyword))"
   ],
   "metadata": {
    "id": "bGWUYLkHhROe"
   },
   "execution_count": 153,
   "outputs": []
  },
  {
   "cell_type": "code",
   "source": [
    "index = similarities.SparseMatrixSimilarity(tfidf[corpus], num_features = feature_cnt)"
   ],
   "metadata": {
    "id": "NL67in9UhW2I"
   },
   "execution_count": 154,
   "outputs": []
  },
  {
   "cell_type": "code",
   "source": [
    "sim = index[tfidf[kw_vector]]"
   ],
   "metadata": {
    "id": "l9kgoU0_haYZ"
   },
   "execution_count": 155,
   "outputs": []
  },
  {
   "cell_type": "code",
   "source": [
    "for i in range(len(sim)):\n",
    "    print('keyword is similar to text%d: %.2f' % (i + 1, sim[i]))"
   ],
   "metadata": {
    "colab": {
     "base_uri": "https://localhost:8080/"
    },
    "id": "BGQ1bU7Vhd6O",
    "outputId": "67433afa-eba7-4dcc-e9c6-5f03bae3fec3"
   },
   "execution_count": 156,
   "outputs": [
    {
     "output_type": "stream",
     "name": "stdout",
     "text": [
      "keyword is similar to text1: 0.05\n",
      "keyword is similar to text2: 0.02\n",
      "keyword is similar to text3: 0.47\n"
     ]
    }
   ]
  },
  {
   "cell_type": "code",
   "source": [
    "texts = ['Du er god til konstruktion af modeller', \n",
    "'Er vant til at arbejde selvstændigt og med passion', \n",
    "'Du beskriver dig selv som en der er vant til at knokle og give alt for teamet']"
   ],
   "metadata": {
    "id": "wK2ianYujAiO"
   },
   "execution_count": 166,
   "outputs": []
  },
  {
   "cell_type": "code",
   "source": [
    "keyword = 'du er dygtig til at bygge modeller'"
   ],
   "metadata": {
    "id": "j4bDcrXkjYmg"
   },
   "execution_count": 167,
   "outputs": []
  },
  {
   "cell_type": "code",
   "source": [
    "texts = [jieba.lcut(text) for text in texts]\n",
    "dictionary = corpora.Dictionary(texts)\n",
    "feature_cnt = len(dictionary.token2id)"
   ],
   "metadata": {
    "id": "b9WiFeCyjiGU"
   },
   "execution_count": 168,
   "outputs": []
  },
  {
   "cell_type": "code",
   "source": [
    "corpus = [dictionary.doc2bow(text) for text in texts]"
   ],
   "metadata": {
    "id": "gfvEKSzkjlU5"
   },
   "execution_count": 169,
   "outputs": []
  },
  {
   "cell_type": "code",
   "source": [
    "tfidf = models.TfidfModel(corpus) "
   ],
   "metadata": {
    "id": "pXPrWXV8jn8L"
   },
   "execution_count": 170,
   "outputs": []
  },
  {
   "cell_type": "code",
   "source": [
    "kw_vector = dictionary.doc2bow(jieba.lcut(keyword))"
   ],
   "metadata": {
    "id": "LLNOtKM5jpy6"
   },
   "execution_count": 171,
   "outputs": []
  },
  {
   "cell_type": "code",
   "source": [
    "index = similarities.SparseMatrixSimilarity(tfidf[corpus], num_features = feature_cnt)"
   ],
   "metadata": {
    "id": "cof8DC50ju37"
   },
   "execution_count": 172,
   "outputs": []
  },
  {
   "cell_type": "code",
   "source": [
    "sim = index[tfidf[kw_vector]]"
   ],
   "metadata": {
    "id": "MAeWtaJQjx_Z"
   },
   "execution_count": 173,
   "outputs": []
  },
  {
   "cell_type": "code",
   "source": [
    "for i in range(len(sim)):\n",
    "    print('keyword is similar to text%d: %.2f' % (i + 1, sim[i]))"
   ],
   "metadata": {
    "colab": {
     "base_uri": "https://localhost:8080/"
    },
    "id": "gVrhvNJ3j1YE",
    "outputId": "80a6d607-b273-4a7d-8086-5fa6927907ff"
   },
   "execution_count": 174,
   "outputs": [
    {
     "output_type": "stream",
     "name": "stdout",
     "text": [
      "keyword is similar to text1: 0.49\n",
      "keyword is similar to text2: 0.04\n",
      "keyword is similar to text3: 0.07\n"
     ]
    }
   ]
  }
 ]
}
