{
 "cells": [
  {
   "cell_type": "code",
   "execution_count": 1,
   "id": "e5aa7eca",
   "metadata": {
    "ExecuteTime": {
     "end_time": "2024-04-17T10:39:04.098808Z",
     "start_time": "2024-04-17T10:39:04.090871Z"
    }
   },
   "outputs": [],
   "source": [
    "# Here we are going to analyze an unknown text\n",
    "# Important:\n",
    "# - Without looking in the text ! :)"
   ]
  },
  {
   "cell_type": "code",
   "execution_count": 19,
   "id": "d3722ca6",
   "metadata": {
    "ExecuteTime": {
     "end_time": "2024-04-17T11:04:09.287034Z",
     "start_time": "2024-04-17T11:04:09.281012Z"
    }
   },
   "outputs": [],
   "source": [
    "import spacy\n",
    "\n",
    "from collections import Counter"
   ]
  },
  {
   "cell_type": "code",
   "outputs": [
    {
     "ename": "SyntaxError",
     "evalue": "invalid syntax (2326133326.py, line 1)",
     "output_type": "error",
     "traceback": [
      "\u001B[1;36m  Cell \u001B[1;32mIn[5], line 1\u001B[1;36m\u001B[0m\n\u001B[1;33m    spacy download en_core_web_md\u001B[0m\n\u001B[1;37m          ^\u001B[0m\n\u001B[1;31mSyntaxError\u001B[0m\u001B[1;31m:\u001B[0m invalid syntax\n"
     ]
    }
   ],
   "source": [
    "!spacy download en_core_web_md"
   ],
   "metadata": {
    "collapsed": false,
    "ExecuteTime": {
     "end_time": "2024-04-17T10:46:48.907851Z",
     "start_time": "2024-04-17T10:46:48.899050Z"
    }
   },
   "id": "30384e325debd192",
   "execution_count": 5
  },
  {
   "cell_type": "code",
   "execution_count": 8,
   "id": "6a1ff54b",
   "metadata": {
    "ExecuteTime": {
     "end_time": "2024-04-17T10:47:43.240113Z",
     "start_time": "2024-04-17T10:47:41.050339Z"
    }
   },
   "outputs": [],
   "source": [
    "# Load the installed model \"en_core_web_sm\"\n",
    "nlp = spacy.load(\"en_core_web_md\")"
   ]
  },
  {
   "cell_type": "code",
   "execution_count": 9,
   "id": "836e6d5f",
   "metadata": {
    "ExecuteTime": {
     "end_time": "2024-04-17T10:47:44.352050Z",
     "start_time": "2024-04-17T10:47:44.346628Z"
    }
   },
   "outputs": [],
   "source": [
    "# So what is this text about?"
   ]
  },
  {
   "cell_type": "code",
   "execution_count": 10,
   "id": "0d9cdc0e",
   "metadata": {
    "ExecuteTime": {
     "end_time": "2024-04-17T10:47:48.011914Z",
     "start_time": "2024-04-17T10:47:47.963184Z"
    }
   },
   "outputs": [],
   "source": [
    "doc2 = nlp(\"John McCain and I visited the Apple Store in Manhattan.\")"
   ]
  },
  {
   "cell_type": "code",
   "execution_count": 11,
   "id": "7de91b47",
   "metadata": {
    "ExecuteTime": {
     "end_time": "2024-04-17T10:47:49.500545Z",
     "start_time": "2024-04-17T10:47:49.491509Z"
    }
   },
   "outputs": [
    {
     "name": "stdout",
     "output_type": "stream",
     "text": [
      "John McCain\n",
      "the Apple Store\n",
      "Manhattan\n"
     ]
    }
   ],
   "source": [
    "for item in doc2.ents:\n",
    "    print(item)"
   ]
  },
  {
   "cell_type": "code",
   "execution_count": 12,
   "id": "5e1e7270",
   "metadata": {
    "ExecuteTime": {
     "end_time": "2024-04-17T10:47:51.626522Z",
     "start_time": "2024-04-17T10:47:51.618803Z"
    }
   },
   "outputs": [
    {
     "name": "stdout",
     "output_type": "stream",
     "text": [
      "John McCain PERSON\n",
      "the Apple Store ORG\n",
      "Manhattan GPE\n"
     ]
    }
   ],
   "source": [
    "for item in doc2.ents:\n",
    "    print (item.text, item.label_)"
   ]
  },
  {
   "cell_type": "code",
   "execution_count": 15,
   "id": "8a2768c5",
   "metadata": {
    "ExecuteTime": {
     "end_time": "2024-04-17T11:02:59.147078Z",
     "start_time": "2024-04-17T11:02:58.912079Z"
    }
   },
   "outputs": [],
   "source": [
    "text = open(\"EightThings.txt\").read()\n",
    "\n",
    "doc3 = nlp(text)"
   ]
  },
  {
   "cell_type": "code",
   "execution_count": 16,
   "id": "856c29d9",
   "metadata": {
    "ExecuteTime": {
     "end_time": "2024-04-17T11:02:59.966615Z",
     "start_time": "2024-04-17T11:02:59.956991Z"
    }
   },
   "outputs": [
    {
     "name": "stdout",
     "output_type": "stream",
     "text": [
      "1 CARDINAL\n",
      "the Stockton-Darlington Railway ORG\n",
      "1825 DATE\n",
      "30 miles per hour QUANTITY\n",
      "2 CARDINAL\n",
      "Sweden GPE\n",
      "Devil PERSON\n",
      "4 CARDINAL\n",
      "the mid-2000s DATE\n",
      "TCO93 PERSON\n",
      "5 CARDINAL\n",
      "6 CARDINAL\n",
      "Y2K PRODUCT\n",
      "the year 2000 DATE\n",
      "two-digit year DATE\n",
      "Guardian ORG\n",
      "Newcastle GPE\n",
      "7 CARDINAL\n",
      "Digital ORG\n",
      "Amazon ORG\n",
      "Google ORG\n",
      "Japan GPE\n",
      "8 CARDINAL\n",
      "1997 DATE\n",
      "US GPE\n",
      "Richard Seed PERSON\n",
      "first ORDINAL\n",
      "18 months - and later DATE\n",
      "first ORDINAL\n",
      "Orphan Black GPE\n"
     ]
    }
   ],
   "source": [
    "for item in doc3.ents:\n",
    "    print (item.text, item.label_)"
   ]
  },
  {
   "cell_type": "code",
   "execution_count": 17,
   "id": "31b43b9e",
   "metadata": {},
   "outputs": [],
   "source": [
    "# Again, Dont look into the text by opening the text in an editor :) \n",
    "# Only use Spacy code to look "
   ]
  },
  {
   "cell_type": "code",
   "execution_count": 18,
   "id": "54187134",
   "metadata": {},
   "outputs": [],
   "source": [
    "# What is this text about ?"
   ]
  },
  {
   "cell_type": "code",
   "execution_count": 19,
   "id": "1449e073",
   "metadata": {},
   "outputs": [],
   "source": [
    "# Google what you can do, and ask chatGPT."
   ]
  },
  {
   "cell_type": "code",
   "execution_count": 20,
   "id": "ae16ab36",
   "metadata": {},
   "outputs": [],
   "source": [
    "# So here you go..."
   ]
  },
  {
   "cell_type": "code",
   "execution_count": 21,
   "id": "8cdf9b48",
   "metadata": {
    "ExecuteTime": {
     "end_time": "2024-04-17T11:04:27.812610Z",
     "start_time": "2024-04-17T11:04:27.793421Z"
    }
   },
   "outputs": [],
   "source": [
    "named_entities = [ent.label_ for ent in doc3.ents]\n",
    "\n",
    "entity_counts = Counter(named_entities)\n",
    "\n",
    "# Determine the most common entity type\n",
    "most_common_entity = entity_counts.most_common(1)[0][0]"
   ]
  },
  {
   "cell_type": "code",
   "outputs": [],
   "source": [
    "# Map entity types to potential topics\n",
    "entity_topics = {\n",
    "    \"CARDINAL\": \"Numbers, quantities, or counts\",\n",
    "    \"ORG\": \"Organizations, companies, or institutions\",\n",
    "    \"DATE\": \"Dates, including years, months, and days\",\n",
    "    \"QUANTITY\": \"Measurements or quantities\",\n",
    "    \"GPE\": \"Geopolitical entities such as countries, cities, or states\",\n",
    "    \"PERSON\": \"Names of people\",\n",
    "    \"PRODUCT\": \"Products or goods\",\n",
    "    \"ORDINAL\": \"Words representing ranks or order\"\n",
    "}"
   ],
   "metadata": {
    "collapsed": false,
    "ExecuteTime": {
     "end_time": "2024-04-17T11:04:36.467504Z",
     "start_time": "2024-04-17T11:04:36.459077Z"
    }
   },
   "id": "91462b34df7f7d05",
   "execution_count": 22
  },
  {
   "cell_type": "code",
   "outputs": [
    {
     "name": "stdout",
     "output_type": "stream",
     "text": [
      "The text is likely about: Numbers, quantities, or counts\n"
     ]
    }
   ],
   "source": [
    "# Print the inferred topic based on the most common entity type\n",
    "inferred_topic = entity_topics.get(most_common_entity, \"Unknown\")\n",
    "print(\"The text is likely about:\", inferred_topic)"
   ],
   "metadata": {
    "collapsed": false,
    "ExecuteTime": {
     "end_time": "2024-04-17T11:04:43.994392Z",
     "start_time": "2024-04-17T11:04:43.986749Z"
    }
   },
   "id": "38c20830d0da9ee1",
   "execution_count": 23
  },
  {
   "cell_type": "code",
   "outputs": [],
   "source": [
    "# Rank entity topics based on their occurrences\n",
    "ranked_topics = sorted(entity_counts.items(), key=lambda x: x[1], reverse=True)"
   ],
   "metadata": {
    "collapsed": false,
    "ExecuteTime": {
     "end_time": "2024-04-17T11:09:02.988990Z",
     "start_time": "2024-04-17T11:09:02.979027Z"
    }
   },
   "id": "f23fe2cd2674575a",
   "execution_count": 24
  },
  {
   "cell_type": "code",
   "outputs": [
    {
     "name": "stdout",
     "output_type": "stream",
     "text": [
      "\n",
      "Ranked Entity Topics:\n",
      "Numbers, quantities, or counts: 7\n",
      "Dates, including years, months, and days: 6\n",
      "Organizations, companies, or institutions: 5\n",
      "Geopolitical entities such as countries, cities, or states: 5\n",
      "Names of people: 3\n",
      "Words representing ranks or order: 2\n",
      "Measurements or quantities: 1\n",
      "Products or goods: 1\n"
     ]
    }
   ],
   "source": [
    "# Display the ranked entity topics\n",
    "print(\"\\nRanked Entity Topics:\")\n",
    "for entity_type, count in ranked_topics:\n",
    "    topic = entity_topics.get(entity_type, \"Unknown\")\n",
    "    print(f\"{topic}: {count}\")"
   ],
   "metadata": {
    "collapsed": false,
    "ExecuteTime": {
     "end_time": "2024-04-17T11:09:40.601986Z",
     "start_time": "2024-04-17T11:09:40.592080Z"
    }
   },
   "id": "8948ec40c00581b3",
   "execution_count": 27
  },
  {
   "cell_type": "code",
   "outputs": [],
   "source": [],
   "metadata": {
    "collapsed": false
   },
   "id": "bce00913f5c19fdf"
  }
 ],
 "metadata": {
  "kernelspec": {
   "display_name": "Python 3 (ipykernel)",
   "language": "python",
   "name": "python3"
  },
  "language_info": {
   "codemirror_mode": {
    "name": "ipython",
    "version": 3
   },
   "file_extension": ".py",
   "mimetype": "text/x-python",
   "name": "python",
   "nbconvert_exporter": "python",
   "pygments_lexer": "ipython3",
   "version": "3.9.13"
  }
 },
 "nbformat": 4,
 "nbformat_minor": 5
}
