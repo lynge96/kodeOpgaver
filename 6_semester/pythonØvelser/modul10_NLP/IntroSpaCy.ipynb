{
 "cells": [
  {
   "cell_type": "code",
   "execution_count": 3,
   "metadata": {
    "id": "Uhfj7_tW7W2q",
    "ExecuteTime": {
     "end_time": "2024-04-11T12:02:55.291925Z",
     "start_time": "2024-04-11T12:02:55.278124Z"
    }
   },
   "outputs": [],
   "source": [
    "# Intro to Spacy\n",
    "# Sila, Nov. 19th 2022\n",
    "# ITA ML"
   ]
  },
  {
   "cell_type": "code",
   "outputs": [
    {
     "name": "stdout",
     "output_type": "stream",
     "text": [
      "Collecting en-core-web-md==3.7.1\n",
      "  Downloading https://github.com/explosion/spacy-models/releases/download/en_core_web_md-3.7.1/en_core_web_md-3.7.1-py3-none-any.whl (42.8 MB)\n",
      "     ---------------------------------------- 0.0/42.8 MB ? eta -:--:--\n",
      "     ---------------------------------------- 0.0/42.8 MB ? eta -:--:--\n",
      "     --------------------------------------- 0.0/42.8 MB 393.8 kB/s eta 0:01:49\n",
      "     ---------------------------------------- 0.4/42.8 MB 2.5 MB/s eta 0:00:18\n",
      "      --------------------------------------- 1.0/42.8 MB 5.1 MB/s eta 0:00:09\n",
      "     - -------------------------------------- 1.6/42.8 MB 6.9 MB/s eta 0:00:06\n",
      "     -- ------------------------------------- 2.4/42.8 MB 8.5 MB/s eta 0:00:05\n",
      "     --- ------------------------------------ 3.3/42.8 MB 10.1 MB/s eta 0:00:04\n",
      "     --- ------------------------------------ 4.2/42.8 MB 11.3 MB/s eta 0:00:04\n",
      "     ----- ---------------------------------- 5.4/42.8 MB 12.8 MB/s eta 0:00:03\n",
      "     ------ --------------------------------- 6.5/42.8 MB 13.9 MB/s eta 0:00:03\n",
      "     ------- -------------------------------- 7.6/42.8 MB 14.8 MB/s eta 0:00:03\n",
      "     -------- ------------------------------- 8.9/42.8 MB 15.9 MB/s eta 0:00:03\n",
      "     --------- ----------------------------- 10.2/42.8 MB 16.7 MB/s eta 0:00:02\n",
      "     ---------- ---------------------------- 11.2/42.8 MB 21.8 MB/s eta 0:00:02\n",
      "     ----------- --------------------------- 12.4/42.8 MB 23.4 MB/s eta 0:00:02\n",
      "     ------------ -------------------------- 13.5/42.8 MB 24.2 MB/s eta 0:00:02\n",
      "     ------------- ------------------------- 14.9/42.8 MB 25.2 MB/s eta 0:00:02\n",
      "     -------------- ------------------------ 16.1/42.8 MB 25.1 MB/s eta 0:00:02\n",
      "     --------------- ----------------------- 17.2/42.8 MB 25.1 MB/s eta 0:00:02\n",
      "     ---------------- ---------------------- 18.3/42.8 MB 25.2 MB/s eta 0:00:01\n",
      "     ----------------- --------------------- 19.6/42.8 MB 25.2 MB/s eta 0:00:01\n",
      "     ------------------ -------------------- 20.7/42.8 MB 25.2 MB/s eta 0:00:01\n",
      "     ------------------- ------------------- 21.9/42.8 MB 26.2 MB/s eta 0:00:01\n",
      "     -------------------- ------------------ 22.9/42.8 MB 25.2 MB/s eta 0:00:01\n",
      "     ---------------------- ---------------- 24.3/42.8 MB 25.2 MB/s eta 0:00:01\n",
      "     ---------------------- ---------------- 25.2/42.8 MB 25.2 MB/s eta 0:00:01\n",
      "     ------------------------ -------------- 26.6/42.8 MB 25.2 MB/s eta 0:00:01\n",
      "     ------------------------- ------------- 27.6/42.8 MB 25.2 MB/s eta 0:00:01\n",
      "     -------------------------- ------------ 28.9/42.8 MB 26.2 MB/s eta 0:00:01\n",
      "     --------------------------- ----------- 30.2/42.8 MB 26.2 MB/s eta 0:00:01\n",
      "     ---------------------------- ---------- 31.2/42.8 MB 25.2 MB/s eta 0:00:01\n",
      "     ----------------------------- --------- 32.8/42.8 MB 26.2 MB/s eta 0:00:01\n",
      "     ------------------------------- ------- 34.0/42.8 MB 27.3 MB/s eta 0:00:01\n",
      "     -------------------------------- ------ 35.1/42.8 MB 26.2 MB/s eta 0:00:01\n",
      "     --------------------------------- ----- 36.6/42.8 MB 27.3 MB/s eta 0:00:01\n",
      "     ---------------------------------- ---- 37.9/42.8 MB 27.3 MB/s eta 0:00:01\n",
      "     ---------------------------------- ---- 38.1/42.8 MB 28.4 MB/s eta 0:00:01\n",
      "     ------------------------------------ -- 40.0/42.8 MB 28.5 MB/s eta 0:00:01\n",
      "     ------------------------------------- - 41.3/42.8 MB 27.3 MB/s eta 0:00:01\n",
      "     --------------------------------------  42.7/42.8 MB 26.2 MB/s eta 0:00:01\n",
      "     --------------------------------------  42.8/42.8 MB 26.2 MB/s eta 0:00:01\n",
      "     --------------------------------------  42.8/42.8 MB 26.2 MB/s eta 0:00:01\n",
      "     --------------------------------------  42.8/42.8 MB 26.2 MB/s eta 0:00:01\n",
      "     --------------------------------------  42.8/42.8 MB 26.2 MB/s eta 0:00:01\n",
      "     --------------------------------------  42.8/42.8 MB 26.2 MB/s eta 0:00:01\n",
      "     --------------------------------------  42.8/42.8 MB 26.2 MB/s eta 0:00:01\n",
      "     --------------------------------------  42.8/42.8 MB 26.2 MB/s eta 0:00:01\n",
      "     --------------------------------------  42.8/42.8 MB 26.2 MB/s eta 0:00:01\n",
      "     --------------------------------------  42.8/42.8 MB 26.2 MB/s eta 0:00:01\n",
      "     --------------------------------------  42.8/42.8 MB 26.2 MB/s eta 0:00:01\n",
      "     --------------------------------------  42.8/42.8 MB 26.2 MB/s eta 0:00:01\n",
      "     --------------------------------------  42.8/42.8 MB 26.2 MB/s eta 0:00:01\n",
      "     --------------------------------------  42.8/42.8 MB 26.2 MB/s eta 0:00:01\n",
      "     --------------------------------------  42.8/42.8 MB 26.2 MB/s eta 0:00:01\n",
      "     --------------------------------------  42.8/42.8 MB 26.2 MB/s eta 0:00:01\n",
      "     --------------------------------------  42.8/42.8 MB 26.2 MB/s eta 0:00:01\n",
      "     ---------------------------------------- 42.8/42.8 MB 9.0 MB/s eta 0:00:00\n",
      "Requirement already satisfied: spacy<3.8.0,>=3.7.2 in c:\\users\\lynge\\desktop\\kodeopgaver\\6_semester\\modul10_nlpintro\\.venv\\lib\\site-packages (from en-core-web-md==3.7.1) (3.7.4)\n",
      "Requirement already satisfied: spacy-legacy<3.1.0,>=3.0.11 in c:\\users\\lynge\\desktop\\kodeopgaver\\6_semester\\modul10_nlpintro\\.venv\\lib\\site-packages (from spacy<3.8.0,>=3.7.2->en-core-web-md==3.7.1) (3.0.12)\n",
      "Requirement already satisfied: spacy-loggers<2.0.0,>=1.0.0 in c:\\users\\lynge\\desktop\\kodeopgaver\\6_semester\\modul10_nlpintro\\.venv\\lib\\site-packages (from spacy<3.8.0,>=3.7.2->en-core-web-md==3.7.1) (1.0.5)\n",
      "Requirement already satisfied: murmurhash<1.1.0,>=0.28.0 in c:\\users\\lynge\\desktop\\kodeopgaver\\6_semester\\modul10_nlpintro\\.venv\\lib\\site-packages (from spacy<3.8.0,>=3.7.2->en-core-web-md==3.7.1) (1.0.10)\n",
      "Requirement already satisfied: cymem<2.1.0,>=2.0.2 in c:\\users\\lynge\\desktop\\kodeopgaver\\6_semester\\modul10_nlpintro\\.venv\\lib\\site-packages (from spacy<3.8.0,>=3.7.2->en-core-web-md==3.7.1) (2.0.8)\n",
      "Requirement already satisfied: preshed<3.1.0,>=3.0.2 in c:\\users\\lynge\\desktop\\kodeopgaver\\6_semester\\modul10_nlpintro\\.venv\\lib\\site-packages (from spacy<3.8.0,>=3.7.2->en-core-web-md==3.7.1) (3.0.9)\n",
      "Requirement already satisfied: thinc<8.3.0,>=8.2.2 in c:\\users\\lynge\\desktop\\kodeopgaver\\6_semester\\modul10_nlpintro\\.venv\\lib\\site-packages (from spacy<3.8.0,>=3.7.2->en-core-web-md==3.7.1) (8.2.3)\n",
      "Requirement already satisfied: wasabi<1.2.0,>=0.9.1 in c:\\users\\lynge\\desktop\\kodeopgaver\\6_semester\\modul10_nlpintro\\.venv\\lib\\site-packages (from spacy<3.8.0,>=3.7.2->en-core-web-md==3.7.1) (1.1.2)\n",
      "Requirement already satisfied: srsly<3.0.0,>=2.4.3 in c:\\users\\lynge\\desktop\\kodeopgaver\\6_semester\\modul10_nlpintro\\.venv\\lib\\site-packages (from spacy<3.8.0,>=3.7.2->en-core-web-md==3.7.1) (2.4.8)\n",
      "Requirement already satisfied: catalogue<2.1.0,>=2.0.6 in c:\\users\\lynge\\desktop\\kodeopgaver\\6_semester\\modul10_nlpintro\\.venv\\lib\\site-packages (from spacy<3.8.0,>=3.7.2->en-core-web-md==3.7.1) (2.0.10)\n",
      "Requirement already satisfied: weasel<0.4.0,>=0.1.0 in c:\\users\\lynge\\desktop\\kodeopgaver\\6_semester\\modul10_nlpintro\\.venv\\lib\\site-packages (from spacy<3.8.0,>=3.7.2->en-core-web-md==3.7.1) (0.3.4)\n",
      "Requirement already satisfied: typer<0.10.0,>=0.3.0 in c:\\users\\lynge\\desktop\\kodeopgaver\\6_semester\\modul10_nlpintro\\.venv\\lib\\site-packages (from spacy<3.8.0,>=3.7.2->en-core-web-md==3.7.1) (0.9.4)\n",
      "Requirement already satisfied: smart-open<7.0.0,>=5.2.1 in c:\\users\\lynge\\desktop\\kodeopgaver\\6_semester\\modul10_nlpintro\\.venv\\lib\\site-packages (from spacy<3.8.0,>=3.7.2->en-core-web-md==3.7.1) (6.4.0)\n",
      "Requirement already satisfied: tqdm<5.0.0,>=4.38.0 in c:\\users\\lynge\\desktop\\kodeopgaver\\6_semester\\modul10_nlpintro\\.venv\\lib\\site-packages (from spacy<3.8.0,>=3.7.2->en-core-web-md==3.7.1) (4.66.2)\n",
      "Requirement already satisfied: requests<3.0.0,>=2.13.0 in c:\\users\\lynge\\desktop\\kodeopgaver\\6_semester\\modul10_nlpintro\\.venv\\lib\\site-packages (from spacy<3.8.0,>=3.7.2->en-core-web-md==3.7.1) (2.31.0)\n",
      "Requirement already satisfied: pydantic!=1.8,!=1.8.1,<3.0.0,>=1.7.4 in c:\\users\\lynge\\desktop\\kodeopgaver\\6_semester\\modul10_nlpintro\\.venv\\lib\\site-packages (from spacy<3.8.0,>=3.7.2->en-core-web-md==3.7.1) (2.6.4)\n",
      "Requirement already satisfied: jinja2 in c:\\users\\lynge\\desktop\\kodeopgaver\\6_semester\\modul10_nlpintro\\.venv\\lib\\site-packages (from spacy<3.8.0,>=3.7.2->en-core-web-md==3.7.1) (3.1.3)\n",
      "Requirement already satisfied: setuptools in c:\\users\\lynge\\desktop\\kodeopgaver\\6_semester\\modul10_nlpintro\\.venv\\lib\\site-packages (from spacy<3.8.0,>=3.7.2->en-core-web-md==3.7.1) (68.2.0)\n",
      "Requirement already satisfied: packaging>=20.0 in c:\\users\\lynge\\desktop\\kodeopgaver\\6_semester\\modul10_nlpintro\\.venv\\lib\\site-packages (from spacy<3.8.0,>=3.7.2->en-core-web-md==3.7.1) (24.0)\n",
      "Requirement already satisfied: langcodes<4.0.0,>=3.2.0 in c:\\users\\lynge\\desktop\\kodeopgaver\\6_semester\\modul10_nlpintro\\.venv\\lib\\site-packages (from spacy<3.8.0,>=3.7.2->en-core-web-md==3.7.1) (3.3.0)\n",
      "Requirement already satisfied: numpy>=1.19.0 in c:\\users\\lynge\\desktop\\kodeopgaver\\6_semester\\modul10_nlpintro\\.venv\\lib\\site-packages (from spacy<3.8.0,>=3.7.2->en-core-web-md==3.7.1) (1.26.4)\n",
      "Requirement already satisfied: annotated-types>=0.4.0 in c:\\users\\lynge\\desktop\\kodeopgaver\\6_semester\\modul10_nlpintro\\.venv\\lib\\site-packages (from pydantic!=1.8,!=1.8.1,<3.0.0,>=1.7.4->spacy<3.8.0,>=3.7.2->en-core-web-md==3.7.1) (0.6.0)\n",
      "Requirement already satisfied: pydantic-core==2.16.3 in c:\\users\\lynge\\desktop\\kodeopgaver\\6_semester\\modul10_nlpintro\\.venv\\lib\\site-packages (from pydantic!=1.8,!=1.8.1,<3.0.0,>=1.7.4->spacy<3.8.0,>=3.7.2->en-core-web-md==3.7.1) (2.16.3)\n",
      "Requirement already satisfied: typing-extensions>=4.6.1 in c:\\users\\lynge\\desktop\\kodeopgaver\\6_semester\\modul10_nlpintro\\.venv\\lib\\site-packages (from pydantic!=1.8,!=1.8.1,<3.0.0,>=1.7.4->spacy<3.8.0,>=3.7.2->en-core-web-md==3.7.1) (4.11.0)\n",
      "Requirement already satisfied: charset-normalizer<4,>=2 in c:\\users\\lynge\\desktop\\kodeopgaver\\6_semester\\modul10_nlpintro\\.venv\\lib\\site-packages (from requests<3.0.0,>=2.13.0->spacy<3.8.0,>=3.7.2->en-core-web-md==3.7.1) (3.3.2)\n",
      "Requirement already satisfied: idna<4,>=2.5 in c:\\users\\lynge\\desktop\\kodeopgaver\\6_semester\\modul10_nlpintro\\.venv\\lib\\site-packages (from requests<3.0.0,>=2.13.0->spacy<3.8.0,>=3.7.2->en-core-web-md==3.7.1) (3.7)\n",
      "Requirement already satisfied: urllib3<3,>=1.21.1 in c:\\users\\lynge\\desktop\\kodeopgaver\\6_semester\\modul10_nlpintro\\.venv\\lib\\site-packages (from requests<3.0.0,>=2.13.0->spacy<3.8.0,>=3.7.2->en-core-web-md==3.7.1) (2.2.1)\n",
      "Requirement already satisfied: certifi>=2017.4.17 in c:\\users\\lynge\\desktop\\kodeopgaver\\6_semester\\modul10_nlpintro\\.venv\\lib\\site-packages (from requests<3.0.0,>=2.13.0->spacy<3.8.0,>=3.7.2->en-core-web-md==3.7.1) (2024.2.2)\n",
      "Requirement already satisfied: blis<0.8.0,>=0.7.8 in c:\\users\\lynge\\desktop\\kodeopgaver\\6_semester\\modul10_nlpintro\\.venv\\lib\\site-packages (from thinc<8.3.0,>=8.2.2->spacy<3.8.0,>=3.7.2->en-core-web-md==3.7.1) (0.7.11)\n",
      "Requirement already satisfied: confection<1.0.0,>=0.0.1 in c:\\users\\lynge\\desktop\\kodeopgaver\\6_semester\\modul10_nlpintro\\.venv\\lib\\site-packages (from thinc<8.3.0,>=8.2.2->spacy<3.8.0,>=3.7.2->en-core-web-md==3.7.1) (0.1.4)\n",
      "Requirement already satisfied: colorama in c:\\users\\lynge\\desktop\\kodeopgaver\\6_semester\\modul10_nlpintro\\.venv\\lib\\site-packages (from tqdm<5.0.0,>=4.38.0->spacy<3.8.0,>=3.7.2->en-core-web-md==3.7.1) (0.4.6)\n",
      "Requirement already satisfied: click<9.0.0,>=7.1.1 in c:\\users\\lynge\\desktop\\kodeopgaver\\6_semester\\modul10_nlpintro\\.venv\\lib\\site-packages (from typer<0.10.0,>=0.3.0->spacy<3.8.0,>=3.7.2->en-core-web-md==3.7.1) (8.1.7)\n",
      "Requirement already satisfied: cloudpathlib<0.17.0,>=0.7.0 in c:\\users\\lynge\\desktop\\kodeopgaver\\6_semester\\modul10_nlpintro\\.venv\\lib\\site-packages (from weasel<0.4.0,>=0.1.0->spacy<3.8.0,>=3.7.2->en-core-web-md==3.7.1) (0.16.0)\n",
      "Requirement already satisfied: MarkupSafe>=2.0 in c:\\users\\lynge\\desktop\\kodeopgaver\\6_semester\\modul10_nlpintro\\.venv\\lib\\site-packages (from jinja2->spacy<3.8.0,>=3.7.2->en-core-web-md==3.7.1) (2.1.5)\n",
      "\u001B[38;5;2m[+] Download and installation successful\u001B[0m\n",
      "You can now load the package via spacy.load('en_core_web_md')\n"
     ]
    },
    {
     "name": "stderr",
     "output_type": "stream",
     "text": [
      "\n",
      "[notice] A new release of pip is available: 23.2.1 -> 24.0\n",
      "[notice] To update, run: python.exe -m pip install --upgrade pip\n"
     ]
    }
   ],
   "source": [
    "!python -m spacy download en_core_web_md "
   ],
   "metadata": {
    "collapsed": false,
    "ExecuteTime": {
     "end_time": "2024-04-11T12:12:03.147964Z",
     "start_time": "2024-04-11T12:11:51.942762Z"
    }
   },
   "execution_count": 11
  },
  {
   "cell_type": "code",
   "execution_count": 12,
   "metadata": {
    "id": "4OeGejvV7lsr",
    "ExecuteTime": {
     "end_time": "2024-04-11T12:12:07.607077Z",
     "start_time": "2024-04-11T12:12:05.301679Z"
    }
   },
   "outputs": [],
   "source": [
    "import spacy\n",
    "# Load the installed model \"en_core_web_sm\"\n",
    "nlp = spacy.load(\"en_core_web_md\")"
   ]
  },
  {
   "cell_type": "code",
   "execution_count": 13,
   "metadata": {
    "colab": {
     "base_uri": "https://localhost:8080/"
    },
    "id": "5y5wosb17sH1",
    "outputId": "ab6bbf3c-0641-4bc6-b65b-c1a72e48fc21",
    "ExecuteTime": {
     "end_time": "2024-04-11T12:12:08.820265Z",
     "start_time": "2024-04-11T12:12:08.792206Z"
    }
   },
   "outputs": [
    {
     "data": {
      "text/plain": "['This', 'is', 'a', 'text']"
     },
     "execution_count": 13,
     "metadata": {},
     "output_type": "execute_result"
    }
   ],
   "source": [
    "doc = nlp(\"This is a text\")\n",
    "# Token texts\n",
    "[token.text for token in doc]\n",
    "# ['This', 'is', 'a', 'text']"
   ]
  },
  {
   "cell_type": "code",
   "execution_count": 14,
   "metadata": {
    "colab": {
     "base_uri": "https://localhost:8080/",
     "height": 35
    },
    "id": "knE128Tp7zo6",
    "outputId": "a3cbdd5e-6c27-405f-92f4-b6c3f8a03178",
    "ExecuteTime": {
     "end_time": "2024-04-11T12:12:10.644260Z",
     "start_time": "2024-04-11T12:12:10.625527Z"
    }
   },
   "outputs": [
    {
     "data": {
      "text/plain": "'a text'"
     },
     "execution_count": 14,
     "metadata": {},
     "output_type": "execute_result"
    }
   ],
   "source": [
    "doc = nlp(\"This is a text\")\n",
    "span = doc[2:4]\n",
    "span.text"
   ]
  },
  {
   "cell_type": "code",
   "execution_count": 15,
   "metadata": {
    "colab": {
     "base_uri": "https://localhost:8080/"
    },
    "id": "aujf4iiS7_ia",
    "outputId": "25f2c8ad-3ad8-484c-d0d8-f3ca1425988e",
    "ExecuteTime": {
     "end_time": "2024-04-11T12:12:13.083889Z",
     "start_time": "2024-04-11T12:12:13.048738Z"
    }
   },
   "outputs": [
    {
     "data": {
      "text/plain": "['PRON', 'AUX', 'DET', 'NOUN', 'PUNCT']"
     },
     "execution_count": 15,
     "metadata": {},
     "output_type": "execute_result"
    }
   ],
   "source": [
    "doc = nlp(\"This is a text.\")\n",
    "# Coarse-grained part-of-speech tags\n",
    "[token.pos_ for token in doc]\n",
    "# ['DET', 'VERB', 'DET', 'NOUN', 'PUNCT']\n",
    "# Fine-grained part-of-speech tags\n",
    "# [token.tag_ for token in doc]\n",
    "# ['DT', 'VBZ', 'DT', 'NN', '.']"
   ]
  },
  {
   "cell_type": "code",
   "execution_count": 16,
   "metadata": {
    "colab": {
     "base_uri": "https://localhost:8080/"
    },
    "id": "7ZFbofWa8e5k",
    "outputId": "68c319d1-bc5f-4f9b-d471-8df940994ee6",
    "ExecuteTime": {
     "end_time": "2024-04-11T12:12:18.360391Z",
     "start_time": "2024-04-11T12:12:18.331533Z"
    }
   },
   "outputs": [
    {
     "data": {
      "text/plain": "[('Larry Page', 'PERSON'), ('Google', 'ORG')]"
     },
     "execution_count": 16,
     "metadata": {},
     "output_type": "execute_result"
    }
   ],
   "source": [
    "doc = nlp(\"Larry Page founded Google\")\n",
    "# Text and label of named entity span\n",
    "[(ent.text, ent.label_) for ent in doc.ents]\n",
    "# [('Larry Page', 'PERSON'), ('Google', 'ORG')]"
   ]
  },
  {
   "cell_type": "code",
   "execution_count": 17,
   "metadata": {
    "colab": {
     "base_uri": "https://localhost:8080/"
    },
    "id": "vRMvLT448l6q",
    "outputId": "10b38610-be6e-4340-f184-53c59c1af8fa",
    "ExecuteTime": {
     "end_time": "2024-04-11T12:12:19.835632Z",
     "start_time": "2024-04-11T12:12:19.811114Z"
    }
   },
   "outputs": [
    {
     "data": {
      "text/plain": "['This a sentence.', 'This is another one.']"
     },
     "execution_count": 17,
     "metadata": {},
     "output_type": "execute_result"
    }
   ],
   "source": [
    "doc = nlp(\"This a sentence. This is another one.\")\n",
    "# doc.sents is a generator that yields sentence spans\n",
    "[sent.text for sent in doc.sents]\n",
    "# ['This is a sentence.', 'This is another one.']"
   ]
  },
  {
   "cell_type": "code",
   "execution_count": 9,
   "metadata": {
    "id": "PrBwYknF8u3l"
   },
   "outputs": [],
   "source": [
    "from spacy import displacy"
   ]
  },
  {
   "cell_type": "code",
   "execution_count": 10,
   "metadata": {
    "id": "WUTR0GOw8wch"
   },
   "outputs": [],
   "source": [
    "# Comparing similarity"
   ]
  },
  {
   "cell_type": "code",
   "execution_count": 6,
   "metadata": {
    "colab": {
     "base_uri": "https://localhost:8080/"
    },
    "id": "g9MX55Y5-D_g",
    "outputId": "44f1c3c6-c7dc-43fd-90bf-6a2481f86fc1",
    "ExecuteTime": {
     "end_time": "2024-04-11T12:05:51.647452Z",
     "start_time": "2024-04-11T12:05:39.614038Z"
    }
   },
   "outputs": [
    {
     "name": "stdout",
     "output_type": "stream",
     "text": [
      "Collecting en-core-web-md==3.7.1\n",
      "  Downloading https://github.com/explosion/spacy-models/releases/download/en_core_web_md-3.7.1/en_core_web_md-3.7.1-py3-none-any.whl (42.8 MB)\n",
      "     ---------------------------------------- 0.0/42.8 MB ? eta -:--:--\n",
      "     ---------------------------------------- 0.0/42.8 MB ? eta -:--:--\n",
      "     --------------------------------------- 0.0/42.8 MB 325.1 kB/s eta 0:02:12\n",
      "     --------------------------------------- 0.1/42.8 MB 930.9 kB/s eta 0:00:46\n",
      "      --------------------------------------- 0.9/42.8 MB 5.4 MB/s eta 0:00:08\n",
      "     - -------------------------------------- 1.9/42.8 MB 8.7 MB/s eta 0:00:05\n",
      "     --- ------------------------------------ 3.2/42.8 MB 12.1 MB/s eta 0:00:04\n",
      "     ---- ----------------------------------- 4.4/42.8 MB 14.6 MB/s eta 0:00:03\n",
      "     ----- ---------------------------------- 5.6/42.8 MB 15.6 MB/s eta 0:00:03\n",
      "     ------ --------------------------------- 6.8/42.8 MB 17.3 MB/s eta 0:00:03\n",
      "     ------- -------------------------------- 7.9/42.8 MB 17.3 MB/s eta 0:00:03\n",
      "     -------- ------------------------------- 9.1/42.8 MB 18.2 MB/s eta 0:00:02\n",
      "     --------- ----------------------------- 10.4/42.8 MB 25.1 MB/s eta 0:00:02\n",
      "     ---------- ---------------------------- 11.7/42.8 MB 26.2 MB/s eta 0:00:02\n",
      "     ----------- --------------------------- 13.1/42.8 MB 26.2 MB/s eta 0:00:02\n",
      "     ------------- ------------------------- 14.4/42.8 MB 26.2 MB/s eta 0:00:02\n",
      "     -------------- ------------------------ 15.7/42.8 MB 26.2 MB/s eta 0:00:02\n",
      "     --------------- ----------------------- 17.1/42.8 MB 27.3 MB/s eta 0:00:01\n",
      "     ---------------- ---------------------- 18.3/42.8 MB 28.5 MB/s eta 0:00:01\n",
      "     ----------------- --------------------- 19.6/42.8 MB 27.3 MB/s eta 0:00:01\n",
      "     ------------------ -------------------- 20.7/42.8 MB 28.4 MB/s eta 0:00:01\n",
      "     ------------------- ------------------- 21.8/42.8 MB 27.3 MB/s eta 0:00:01\n",
      "     -------------------- ------------------ 22.8/42.8 MB 27.3 MB/s eta 0:00:01\n",
      "     --------------------- ----------------- 23.8/42.8 MB 26.2 MB/s eta 0:00:01\n",
      "     ---------------------- ---------------- 24.6/42.8 MB 25.2 MB/s eta 0:00:01\n",
      "     ----------------------- --------------- 25.7/42.8 MB 24.2 MB/s eta 0:00:01\n",
      "     ------------------------ -------------- 26.7/42.8 MB 23.4 MB/s eta 0:00:01\n",
      "     ------------------------- ------------- 27.7/42.8 MB 23.4 MB/s eta 0:00:01\n",
      "     -------------------------- ------------ 29.0/42.8 MB 23.4 MB/s eta 0:00:01\n",
      "     --------------------------- ----------- 30.2/42.8 MB 22.5 MB/s eta 0:00:01\n",
      "     ---------------------------- ---------- 31.4/42.8 MB 23.4 MB/s eta 0:00:01\n",
      "     ----------------------------- --------- 32.8/42.8 MB 23.4 MB/s eta 0:00:01\n",
      "     ------------------------------- ------- 34.0/42.8 MB 24.2 MB/s eta 0:00:01\n",
      "     -------------------------------- ------ 35.2/42.8 MB 25.2 MB/s eta 0:00:01\n",
      "     --------------------------------- ----- 36.2/42.8 MB 26.2 MB/s eta 0:00:01\n",
      "     ---------------------------------- ---- 37.6/42.8 MB 27.3 MB/s eta 0:00:01\n",
      "     ----------------------------------- --- 38.9/42.8 MB 27.3 MB/s eta 0:00:01\n",
      "     ------------------------------------ -- 40.1/42.8 MB 27.3 MB/s eta 0:00:01\n",
      "     ------------------------------------- - 41.4/42.8 MB 27.3 MB/s eta 0:00:01\n",
      "     --------------------------------------  42.7/42.8 MB 27.3 MB/s eta 0:00:01\n",
      "     --------------------------------------  42.8/42.8 MB 26.2 MB/s eta 0:00:01\n",
      "     --------------------------------------  42.8/42.8 MB 26.2 MB/s eta 0:00:01\n",
      "     --------------------------------------  42.8/42.8 MB 26.2 MB/s eta 0:00:01\n",
      "     --------------------------------------  42.8/42.8 MB 26.2 MB/s eta 0:00:01\n",
      "     --------------------------------------  42.8/42.8 MB 26.2 MB/s eta 0:00:01\n",
      "     --------------------------------------  42.8/42.8 MB 26.2 MB/s eta 0:00:01\n",
      "     --------------------------------------  42.8/42.8 MB 26.2 MB/s eta 0:00:01\n",
      "     --------------------------------------  42.8/42.8 MB 26.2 MB/s eta 0:00:01\n",
      "     --------------------------------------  42.8/42.8 MB 26.2 MB/s eta 0:00:01\n",
      "     --------------------------------------  42.8/42.8 MB 26.2 MB/s eta 0:00:01\n",
      "     --------------------------------------- 42.8/42.8 MB 11.1 MB/s eta 0:00:00\n",
      "Requirement already satisfied: spacy<3.8.0,>=3.7.2 in c:\\users\\lynge\\desktop\\kodeopgaver\\6_semester\\modul10_nlpintro\\.venv\\lib\\site-packages (from en-core-web-md==3.7.1) (3.7.4)\n",
      "Requirement already satisfied: spacy-legacy<3.1.0,>=3.0.11 in c:\\users\\lynge\\desktop\\kodeopgaver\\6_semester\\modul10_nlpintro\\.venv\\lib\\site-packages (from spacy<3.8.0,>=3.7.2->en-core-web-md==3.7.1) (3.0.12)\n",
      "Requirement already satisfied: spacy-loggers<2.0.0,>=1.0.0 in c:\\users\\lynge\\desktop\\kodeopgaver\\6_semester\\modul10_nlpintro\\.venv\\lib\\site-packages (from spacy<3.8.0,>=3.7.2->en-core-web-md==3.7.1) (1.0.5)\n",
      "Requirement already satisfied: murmurhash<1.1.0,>=0.28.0 in c:\\users\\lynge\\desktop\\kodeopgaver\\6_semester\\modul10_nlpintro\\.venv\\lib\\site-packages (from spacy<3.8.0,>=3.7.2->en-core-web-md==3.7.1) (1.0.10)\n",
      "Requirement already satisfied: cymem<2.1.0,>=2.0.2 in c:\\users\\lynge\\desktop\\kodeopgaver\\6_semester\\modul10_nlpintro\\.venv\\lib\\site-packages (from spacy<3.8.0,>=3.7.2->en-core-web-md==3.7.1) (2.0.8)\n",
      "Requirement already satisfied: preshed<3.1.0,>=3.0.2 in c:\\users\\lynge\\desktop\\kodeopgaver\\6_semester\\modul10_nlpintro\\.venv\\lib\\site-packages (from spacy<3.8.0,>=3.7.2->en-core-web-md==3.7.1) (3.0.9)\n",
      "Requirement already satisfied: thinc<8.3.0,>=8.2.2 in c:\\users\\lynge\\desktop\\kodeopgaver\\6_semester\\modul10_nlpintro\\.venv\\lib\\site-packages (from spacy<3.8.0,>=3.7.2->en-core-web-md==3.7.1) (8.2.3)\n",
      "Requirement already satisfied: wasabi<1.2.0,>=0.9.1 in c:\\users\\lynge\\desktop\\kodeopgaver\\6_semester\\modul10_nlpintro\\.venv\\lib\\site-packages (from spacy<3.8.0,>=3.7.2->en-core-web-md==3.7.1) (1.1.2)\n",
      "Requirement already satisfied: srsly<3.0.0,>=2.4.3 in c:\\users\\lynge\\desktop\\kodeopgaver\\6_semester\\modul10_nlpintro\\.venv\\lib\\site-packages (from spacy<3.8.0,>=3.7.2->en-core-web-md==3.7.1) (2.4.8)\n",
      "Requirement already satisfied: catalogue<2.1.0,>=2.0.6 in c:\\users\\lynge\\desktop\\kodeopgaver\\6_semester\\modul10_nlpintro\\.venv\\lib\\site-packages (from spacy<3.8.0,>=3.7.2->en-core-web-md==3.7.1) (2.0.10)\n",
      "Requirement already satisfied: weasel<0.4.0,>=0.1.0 in c:\\users\\lynge\\desktop\\kodeopgaver\\6_semester\\modul10_nlpintro\\.venv\\lib\\site-packages (from spacy<3.8.0,>=3.7.2->en-core-web-md==3.7.1) (0.3.4)\n",
      "Requirement already satisfied: typer<0.10.0,>=0.3.0 in c:\\users\\lynge\\desktop\\kodeopgaver\\6_semester\\modul10_nlpintro\\.venv\\lib\\site-packages (from spacy<3.8.0,>=3.7.2->en-core-web-md==3.7.1) (0.9.4)\n",
      "Requirement already satisfied: smart-open<7.0.0,>=5.2.1 in c:\\users\\lynge\\desktop\\kodeopgaver\\6_semester\\modul10_nlpintro\\.venv\\lib\\site-packages (from spacy<3.8.0,>=3.7.2->en-core-web-md==3.7.1) (6.4.0)\n",
      "Requirement already satisfied: tqdm<5.0.0,>=4.38.0 in c:\\users\\lynge\\desktop\\kodeopgaver\\6_semester\\modul10_nlpintro\\.venv\\lib\\site-packages (from spacy<3.8.0,>=3.7.2->en-core-web-md==3.7.1) (4.66.2)\n",
      "Requirement already satisfied: requests<3.0.0,>=2.13.0 in c:\\users\\lynge\\desktop\\kodeopgaver\\6_semester\\modul10_nlpintro\\.venv\\lib\\site-packages (from spacy<3.8.0,>=3.7.2->en-core-web-md==3.7.1) (2.31.0)\n",
      "Requirement already satisfied: pydantic!=1.8,!=1.8.1,<3.0.0,>=1.7.4 in c:\\users\\lynge\\desktop\\kodeopgaver\\6_semester\\modul10_nlpintro\\.venv\\lib\\site-packages (from spacy<3.8.0,>=3.7.2->en-core-web-md==3.7.1) (2.6.4)\n",
      "Requirement already satisfied: jinja2 in c:\\users\\lynge\\desktop\\kodeopgaver\\6_semester\\modul10_nlpintro\\.venv\\lib\\site-packages (from spacy<3.8.0,>=3.7.2->en-core-web-md==3.7.1) (3.1.3)\n",
      "Requirement already satisfied: setuptools in c:\\users\\lynge\\desktop\\kodeopgaver\\6_semester\\modul10_nlpintro\\.venv\\lib\\site-packages (from spacy<3.8.0,>=3.7.2->en-core-web-md==3.7.1) (68.2.0)\n",
      "Requirement already satisfied: packaging>=20.0 in c:\\users\\lynge\\desktop\\kodeopgaver\\6_semester\\modul10_nlpintro\\.venv\\lib\\site-packages (from spacy<3.8.0,>=3.7.2->en-core-web-md==3.7.1) (24.0)\n",
      "Requirement already satisfied: langcodes<4.0.0,>=3.2.0 in c:\\users\\lynge\\desktop\\kodeopgaver\\6_semester\\modul10_nlpintro\\.venv\\lib\\site-packages (from spacy<3.8.0,>=3.7.2->en-core-web-md==3.7.1) (3.3.0)\n",
      "Requirement already satisfied: numpy>=1.19.0 in c:\\users\\lynge\\desktop\\kodeopgaver\\6_semester\\modul10_nlpintro\\.venv\\lib\\site-packages (from spacy<3.8.0,>=3.7.2->en-core-web-md==3.7.1) (1.26.4)\n",
      "Requirement already satisfied: annotated-types>=0.4.0 in c:\\users\\lynge\\desktop\\kodeopgaver\\6_semester\\modul10_nlpintro\\.venv\\lib\\site-packages (from pydantic!=1.8,!=1.8.1,<3.0.0,>=1.7.4->spacy<3.8.0,>=3.7.2->en-core-web-md==3.7.1) (0.6.0)\n",
      "Requirement already satisfied: pydantic-core==2.16.3 in c:\\users\\lynge\\desktop\\kodeopgaver\\6_semester\\modul10_nlpintro\\.venv\\lib\\site-packages (from pydantic!=1.8,!=1.8.1,<3.0.0,>=1.7.4->spacy<3.8.0,>=3.7.2->en-core-web-md==3.7.1) (2.16.3)\n",
      "Requirement already satisfied: typing-extensions>=4.6.1 in c:\\users\\lynge\\desktop\\kodeopgaver\\6_semester\\modul10_nlpintro\\.venv\\lib\\site-packages (from pydantic!=1.8,!=1.8.1,<3.0.0,>=1.7.4->spacy<3.8.0,>=3.7.2->en-core-web-md==3.7.1) (4.11.0)\n",
      "Requirement already satisfied: charset-normalizer<4,>=2 in c:\\users\\lynge\\desktop\\kodeopgaver\\6_semester\\modul10_nlpintro\\.venv\\lib\\site-packages (from requests<3.0.0,>=2.13.0->spacy<3.8.0,>=3.7.2->en-core-web-md==3.7.1) (3.3.2)\n",
      "Requirement already satisfied: idna<4,>=2.5 in c:\\users\\lynge\\desktop\\kodeopgaver\\6_semester\\modul10_nlpintro\\.venv\\lib\\site-packages (from requests<3.0.0,>=2.13.0->spacy<3.8.0,>=3.7.2->en-core-web-md==3.7.1) (3.7)\n",
      "Requirement already satisfied: urllib3<3,>=1.21.1 in c:\\users\\lynge\\desktop\\kodeopgaver\\6_semester\\modul10_nlpintro\\.venv\\lib\\site-packages (from requests<3.0.0,>=2.13.0->spacy<3.8.0,>=3.7.2->en-core-web-md==3.7.1) (2.2.1)\n",
      "Requirement already satisfied: certifi>=2017.4.17 in c:\\users\\lynge\\desktop\\kodeopgaver\\6_semester\\modul10_nlpintro\\.venv\\lib\\site-packages (from requests<3.0.0,>=2.13.0->spacy<3.8.0,>=3.7.2->en-core-web-md==3.7.1) (2024.2.2)\n",
      "Requirement already satisfied: blis<0.8.0,>=0.7.8 in c:\\users\\lynge\\desktop\\kodeopgaver\\6_semester\\modul10_nlpintro\\.venv\\lib\\site-packages (from thinc<8.3.0,>=8.2.2->spacy<3.8.0,>=3.7.2->en-core-web-md==3.7.1) (0.7.11)\n",
      "Requirement already satisfied: confection<1.0.0,>=0.0.1 in c:\\users\\lynge\\desktop\\kodeopgaver\\6_semester\\modul10_nlpintro\\.venv\\lib\\site-packages (from thinc<8.3.0,>=8.2.2->spacy<3.8.0,>=3.7.2->en-core-web-md==3.7.1) (0.1.4)\n",
      "Requirement already satisfied: colorama in c:\\users\\lynge\\desktop\\kodeopgaver\\6_semester\\modul10_nlpintro\\.venv\\lib\\site-packages (from tqdm<5.0.0,>=4.38.0->spacy<3.8.0,>=3.7.2->en-core-web-md==3.7.1) (0.4.6)\n",
      "Requirement already satisfied: click<9.0.0,>=7.1.1 in c:\\users\\lynge\\desktop\\kodeopgaver\\6_semester\\modul10_nlpintro\\.venv\\lib\\site-packages (from typer<0.10.0,>=0.3.0->spacy<3.8.0,>=3.7.2->en-core-web-md==3.7.1) (8.1.7)\n",
      "Requirement already satisfied: cloudpathlib<0.17.0,>=0.7.0 in c:\\users\\lynge\\desktop\\kodeopgaver\\6_semester\\modul10_nlpintro\\.venv\\lib\\site-packages (from weasel<0.4.0,>=0.1.0->spacy<3.8.0,>=3.7.2->en-core-web-md==3.7.1) (0.16.0)\n",
      "Requirement already satisfied: MarkupSafe>=2.0 in c:\\users\\lynge\\desktop\\kodeopgaver\\6_semester\\modul10_nlpintro\\.venv\\lib\\site-packages (from jinja2->spacy<3.8.0,>=3.7.2->en-core-web-md==3.7.1) (2.1.5)\n",
      "Installing collected packages: en-core-web-md\n",
      "Successfully installed en-core-web-md-3.7.1\n",
      "\u001B[38;5;2m[+] Download and installation successful\u001B[0m\n",
      "You can now load the package via spacy.load('en_core_web_md')\n"
     ]
    },
    {
     "name": "stderr",
     "output_type": "stream",
     "text": [
      "\n",
      "[notice] A new release of pip is available: 23.2.1 -> 24.0\n",
      "[notice] To update, run: python.exe -m pip install --upgrade pip\n"
     ]
    }
   ],
   "source": [
    "!python -m spacy download en_core_web_md "
   ]
  },
  {
   "cell_type": "code",
   "execution_count": 7,
   "metadata": {
    "id": "rSAwL9xd9jsG",
    "ExecuteTime": {
     "end_time": "2024-04-11T12:06:00.415740Z",
     "start_time": "2024-04-11T12:05:58.298319Z"
    }
   },
   "outputs": [],
   "source": [
    "nlp = spacy.load(\"en_core_web_md\")"
   ]
  },
  {
   "cell_type": "code",
   "execution_count": 8,
   "metadata": {
    "colab": {
     "base_uri": "https://localhost:8080/"
    },
    "id": "E2ZuGWLu82Fj",
    "outputId": "5188a75b-5c87-4783-caf5-1b8dda3c0396",
    "ExecuteTime": {
     "end_time": "2024-04-11T12:06:09.395127Z",
     "start_time": "2024-04-11T12:06:09.288195Z"
    }
   },
   "outputs": [
    {
     "data": {
      "text/plain": "0.9853114785298209"
     },
     "execution_count": 8,
     "metadata": {},
     "output_type": "execute_result"
    }
   ],
   "source": [
    "doc1 = nlp(\"I like cats\")\n",
    "doc2 = nlp(\"I like dogs\")\n",
    "# Compare 2 documents\n",
    "doc1.similarity(doc2)\n",
    "# Compare 2 tokens\n",
    "#doc1[2].similarity(doc2[2])\n",
    "# Compare tokens and spans\n",
    "#doc1[0].similarity(doc2[1:3])"
   ]
  },
  {
   "cell_type": "code",
   "execution_count": 9,
   "metadata": {
    "colab": {
     "base_uri": "https://localhost:8080/"
    },
    "id": "87DK_P76-Xli",
    "outputId": "d2631261-9700-4ce2-ffb0-53e57186b2db",
    "ExecuteTime": {
     "end_time": "2024-04-11T12:06:11.512999Z",
     "start_time": "2024-04-11T12:06:11.477519Z"
    }
   },
   "outputs": [
    {
     "data": {
      "text/plain": "0.7272915484427941"
     },
     "execution_count": 9,
     "metadata": {},
     "output_type": "execute_result"
    }
   ],
   "source": [
    "doc1 = nlp(\"Jeg kan godt lide at bygge modeller\")\n",
    "doc2 = nlp(\"Konstruktion af modeller er noget jeg synes om\")\n",
    "# Compare 2 documents\n",
    "doc1.similarity(doc2)"
   ]
  },
  {
   "cell_type": "code",
   "execution_count": 10,
   "metadata": {
    "colab": {
     "base_uri": "https://localhost:8080/"
    },
    "id": "vsmjAAxg-lpn",
    "outputId": "fc76d0ff-1b68-4a39-b4f0-84d6334e6e3e",
    "ExecuteTime": {
     "end_time": "2024-04-11T12:06:13.288824Z",
     "start_time": "2024-04-11T12:06:13.252286Z"
    }
   },
   "outputs": [
    {
     "data": {
      "text/plain": "0.2403379684920962"
     },
     "execution_count": 10,
     "metadata": {},
     "output_type": "execute_result"
    }
   ],
   "source": [
    "doc1 = nlp(\"han går til fodbold\")\n",
    "doc2 = nlp(\"bageren har åbent idag. De sælger krokoskager\")\n",
    "# Compare 2 documents\n",
    "doc1.similarity(doc2)"
   ]
  },
  {
   "cell_type": "code",
   "execution_count": null,
   "metadata": {},
   "outputs": [],
   "source": []
  }
 ],
 "metadata": {
  "colab": {
   "provenance": []
  },
  "kernelspec": {
   "display_name": "Python 3 (ipykernel)",
   "language": "python",
   "name": "python3"
  },
  "language_info": {
   "codemirror_mode": {
    "name": "ipython",
    "version": 3
   },
   "file_extension": ".py",
   "mimetype": "text/x-python",
   "name": "python",
   "nbconvert_exporter": "python",
   "pygments_lexer": "ipython3",
   "version": "3.9.13"
  }
 },
 "nbformat": 4,
 "nbformat_minor": 1
}
