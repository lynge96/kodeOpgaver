{
  "nbformat": 4,
  "nbformat_minor": 0,
  "metadata": {
    "colab": {
      "name": "ML_Week_10_Exercise2_Autoencoder.ipynb",
      "provenance": []
    },
    "kernelspec": {
      "name": "python3",
      "display_name": "Python 3"
    },
    "language_info": {
      "name": "python"
    },
    "accelerator": "GPU"
  },
  "cells": [
    {
      "cell_type": "code",
      "metadata": {
        "id": "KROgvzxfparq"
      },
      "source": [
        "#Since our inputs are images, it makes sense to use convolutional neural networks (convnets) \n",
        "#as encoders and decoders. In practical settings, autoencoders applied to images \n",
        "#are always convolutional autoencoders --they simply perform much better.\n",
        "import keras\n",
        "from keras import layers\n",
        "\n",
        "input_img = keras.Input(shape=(28, 28, 1))\n",
        "\n",
        "x = layers.Conv2D(16, (3, 3), activation='relu', padding='same')(input_img)\n",
        "x = layers.MaxPooling2D((2, 2), padding='same')(x)\n",
        "x = layers.Conv2D(8, (3, 3), activation='relu', padding='same')(x)\n",
        "x = layers.MaxPooling2D((2, 2), padding='same')(x)\n",
        "x = layers.Conv2D(8, (3, 3), activation='relu', padding='same')(x)\n",
        "encoded = layers.MaxPooling2D((2, 2), padding='same')(x)\n",
        "\n",
        "# at this point the representation is (4, 4, 8) i.e. 128-dimensional\n",
        "\n",
        "x = layers.Conv2D(8, (3, 3), activation='relu', padding='same')(encoded)\n",
        "x = layers.UpSampling2D((2, 2))(x)\n",
        "x = layers.Conv2D(8, (3, 3), activation='relu', padding='same')(x)\n",
        "x = layers.UpSampling2D((2, 2))(x)\n",
        "x = layers.Conv2D(16, (3, 3), activation='relu')(x)\n",
        "x = layers.UpSampling2D((2, 2))(x)\n",
        "decoded = layers.Conv2D(1, (3, 3), activation='sigmoid', padding='same')(x)\n",
        "\n",
        "autoencoder = keras.Model(input_img, decoded)\n",
        "autoencoder.compile(optimizer='adam', loss='binary_crossentropy')"
      ],
      "execution_count": 1,
      "outputs": []
    },
    {
      "cell_type": "code",
      "metadata": {
        "colab": {
          "base_uri": "https://localhost:8080/"
        },
        "id": "Bl0TRshKponS",
        "outputId": "c03cbcb2-42ef-415b-bb89-3e8b9ca59f65"
      },
      "source": [
        "#To train it, we will use the original MNIST digits with shape (samples, 3, 28, 28), \n",
        "#we will just normalize pixel values between 0 and 1.\n",
        "from keras.datasets import mnist\n",
        "import numpy as np\n",
        "\n",
        "(x_train, _), (x_test, _) = mnist.load_data()\n",
        "\n",
        "x_train = x_train.astype('float32') / 255.\n",
        "x_test = x_test.astype('float32') / 255.\n",
        "x_train = np.reshape(x_train, (len(x_train), 28, 28, 1))\n",
        "x_test = np.reshape(x_test, (len(x_test), 28, 28, 1))"
      ],
      "execution_count": 2,
      "outputs": [
        {
          "output_type": "stream",
          "name": "stdout",
          "text": [
            "Downloading data from https://storage.googleapis.com/tensorflow/tf-keras-datasets/mnist.npz\n",
            "11493376/11490434 [==============================] - 0s 0us/step\n",
            "11501568/11490434 [==============================] - 0s 0us/step\n"
          ]
        }
      ]
    },
    {
      "cell_type": "code",
      "metadata": {
        "colab": {
          "base_uri": "https://localhost:8080/"
        },
        "id": "rGu4DucHp_Px",
        "outputId": "4fc8ed08-4f59-49b3-eb36-cb9c3c07c167"
      },
      "source": [
        "autoencoder.fit(x_train, x_train,\n",
        "                epochs=50,\n",
        "                batch_size=128,\n",
        "                shuffle=True,\n",
        "                validation_data=(x_test, x_test))"
      ],
      "execution_count": 3,
      "outputs": [
        {
          "output_type": "stream",
          "name": "stdout",
          "text": [
            "Epoch 1/50\n",
            "469/469 [==============================] - 17s 14ms/step - loss: 0.2150 - val_loss: 0.1482\n",
            "Epoch 2/50\n",
            "469/469 [==============================] - 6s 13ms/step - loss: 0.1390 - val_loss: 0.1292\n",
            "Epoch 3/50\n",
            "469/469 [==============================] - 6s 13ms/step - loss: 0.1255 - val_loss: 0.1200\n",
            "Epoch 4/50\n",
            "469/469 [==============================] - 6s 13ms/step - loss: 0.1187 - val_loss: 0.1154\n",
            "Epoch 5/50\n",
            "469/469 [==============================] - 6s 12ms/step - loss: 0.1145 - val_loss: 0.1118\n",
            "Epoch 6/50\n",
            "469/469 [==============================] - 6s 13ms/step - loss: 0.1115 - val_loss: 0.1091\n",
            "Epoch 7/50\n",
            "469/469 [==============================] - 6s 13ms/step - loss: 0.1093 - val_loss: 0.1072\n",
            "Epoch 8/50\n",
            "469/469 [==============================] - 6s 13ms/step - loss: 0.1076 - val_loss: 0.1054\n",
            "Epoch 9/50\n",
            "469/469 [==============================] - 6s 13ms/step - loss: 0.1062 - val_loss: 0.1044\n",
            "Epoch 10/50\n",
            "469/469 [==============================] - 6s 13ms/step - loss: 0.1051 - val_loss: 0.1033\n",
            "Epoch 11/50\n",
            "469/469 [==============================] - 6s 13ms/step - loss: 0.1041 - val_loss: 0.1025\n",
            "Epoch 12/50\n",
            "469/469 [==============================] - 6s 13ms/step - loss: 0.1033 - val_loss: 0.1017\n",
            "Epoch 13/50\n",
            "469/469 [==============================] - 6s 13ms/step - loss: 0.1026 - val_loss: 0.1020\n",
            "Epoch 14/50\n",
            "469/469 [==============================] - 6s 13ms/step - loss: 0.1019 - val_loss: 0.1009\n",
            "Epoch 15/50\n",
            "469/469 [==============================] - 6s 13ms/step - loss: 0.1012 - val_loss: 0.1002\n",
            "Epoch 16/50\n",
            "469/469 [==============================] - 6s 13ms/step - loss: 0.1007 - val_loss: 0.0992\n",
            "Epoch 17/50\n",
            "469/469 [==============================] - 6s 13ms/step - loss: 0.1002 - val_loss: 0.0991\n",
            "Epoch 18/50\n",
            "469/469 [==============================] - 6s 13ms/step - loss: 0.0998 - val_loss: 0.0984\n",
            "Epoch 19/50\n",
            "469/469 [==============================] - 6s 13ms/step - loss: 0.0993 - val_loss: 0.0981\n",
            "Epoch 20/50\n",
            "469/469 [==============================] - 6s 12ms/step - loss: 0.0990 - val_loss: 0.0977\n",
            "Epoch 21/50\n",
            "469/469 [==============================] - 6s 12ms/step - loss: 0.0987 - val_loss: 0.0973\n",
            "Epoch 22/50\n",
            "469/469 [==============================] - 6s 13ms/step - loss: 0.0983 - val_loss: 0.0969\n",
            "Epoch 23/50\n",
            "469/469 [==============================] - 6s 13ms/step - loss: 0.0981 - val_loss: 0.0968\n",
            "Epoch 24/50\n",
            "469/469 [==============================] - 6s 13ms/step - loss: 0.0977 - val_loss: 0.0967\n",
            "Epoch 25/50\n",
            "469/469 [==============================] - 6s 13ms/step - loss: 0.0974 - val_loss: 0.0966\n",
            "Epoch 26/50\n",
            "469/469 [==============================] - 6s 13ms/step - loss: 0.0972 - val_loss: 0.0960\n",
            "Epoch 27/50\n",
            "469/469 [==============================] - 6s 13ms/step - loss: 0.0970 - val_loss: 0.0957\n",
            "Epoch 28/50\n",
            "469/469 [==============================] - 6s 13ms/step - loss: 0.0967 - val_loss: 0.0955\n",
            "Epoch 29/50\n",
            "469/469 [==============================] - 6s 13ms/step - loss: 0.0965 - val_loss: 0.0953\n",
            "Epoch 30/50\n",
            "469/469 [==============================] - 6s 13ms/step - loss: 0.0962 - val_loss: 0.0951\n",
            "Epoch 31/50\n",
            "469/469 [==============================] - 6s 13ms/step - loss: 0.0961 - val_loss: 0.0949\n",
            "Epoch 32/50\n",
            "469/469 [==============================] - 6s 13ms/step - loss: 0.0958 - val_loss: 0.0947\n",
            "Epoch 33/50\n",
            "469/469 [==============================] - 6s 13ms/step - loss: 0.0956 - val_loss: 0.0942\n",
            "Epoch 34/50\n",
            "469/469 [==============================] - 6s 13ms/step - loss: 0.0955 - val_loss: 0.0944\n",
            "Epoch 35/50\n",
            "469/469 [==============================] - 6s 13ms/step - loss: 0.0953 - val_loss: 0.0940\n",
            "Epoch 36/50\n",
            "469/469 [==============================] - 6s 13ms/step - loss: 0.0951 - val_loss: 0.0940\n",
            "Epoch 37/50\n",
            "469/469 [==============================] - 6s 13ms/step - loss: 0.0950 - val_loss: 0.0937\n",
            "Epoch 38/50\n",
            "469/469 [==============================] - 6s 13ms/step - loss: 0.0949 - val_loss: 0.0938\n",
            "Epoch 39/50\n",
            "469/469 [==============================] - 6s 13ms/step - loss: 0.0947 - val_loss: 0.0936\n",
            "Epoch 40/50\n",
            "469/469 [==============================] - 6s 13ms/step - loss: 0.0946 - val_loss: 0.0933\n",
            "Epoch 41/50\n",
            "469/469 [==============================] - 6s 13ms/step - loss: 0.0945 - val_loss: 0.0936\n",
            "Epoch 42/50\n",
            "469/469 [==============================] - 6s 13ms/step - loss: 0.0943 - val_loss: 0.0931\n",
            "Epoch 43/50\n",
            "469/469 [==============================] - 6s 13ms/step - loss: 0.0942 - val_loss: 0.0930\n",
            "Epoch 44/50\n",
            "469/469 [==============================] - 6s 13ms/step - loss: 0.0940 - val_loss: 0.0928\n",
            "Epoch 45/50\n",
            "469/469 [==============================] - 6s 13ms/step - loss: 0.0940 - val_loss: 0.0927\n",
            "Epoch 46/50\n",
            "469/469 [==============================] - 6s 13ms/step - loss: 0.0939 - val_loss: 0.0929\n",
            "Epoch 47/50\n",
            "469/469 [==============================] - 6s 13ms/step - loss: 0.0937 - val_loss: 0.0928\n",
            "Epoch 48/50\n",
            "469/469 [==============================] - 6s 13ms/step - loss: 0.0936 - val_loss: 0.0925\n",
            "Epoch 49/50\n",
            "469/469 [==============================] - 6s 13ms/step - loss: 0.0935 - val_loss: 0.0923\n",
            "Epoch 50/50\n",
            "469/469 [==============================] - 6s 13ms/step - loss: 0.0935 - val_loss: 0.0924\n"
          ]
        },
        {
          "output_type": "execute_result",
          "data": {
            "text/plain": [
              "<keras.callbacks.History at 0x7fd0cd683fd0>"
            ]
          },
          "metadata": {},
          "execution_count": 3
        }
      ]
    },
    {
      "cell_type": "code",
      "metadata": {
        "colab": {
          "base_uri": "https://localhost:8080/",
          "height": 248
        },
        "id": "5uRvY84iuiNX",
        "outputId": "1df961c0-5f25-4a37-9de0-8dfc79c82ff6"
      },
      "source": [
        "#The model converges to a loss of 0.094, significantly better than our previous models \n",
        "#(this is in large part due to the higher entropic capacity of the encoded representation,\n",
        "#128 dimensions vs. 32 previously). Let's take a look at the reconstructed digits:\n",
        "import matplotlib.pyplot as plt\n",
        "\n",
        "decoded_imgs = autoencoder.predict(x_test)\n",
        "\n",
        "n = 10\n",
        "plt.figure(figsize=(20, 4))\n",
        "for i in range(1, n + 1):\n",
        "    # Display original\n",
        "    ax = plt.subplot(2, n, i)\n",
        "    plt.imshow(x_test[i].reshape(28, 28))\n",
        "    plt.gray()\n",
        "    ax.get_xaxis().set_visible(False)\n",
        "    ax.get_yaxis().set_visible(False)\n",
        "\n",
        "    # Display reconstruction\n",
        "    ax = plt.subplot(2, n, i + n)\n",
        "    plt.imshow(decoded_imgs[i].reshape(28, 28))\n",
        "    plt.gray()\n",
        "    ax.get_xaxis().set_visible(False)\n",
        "    ax.get_yaxis().set_visible(False)\n",
        "plt.show()"
      ],
      "execution_count": 5,
      "outputs": [
        {
          "output_type": "display_data",
          "data": {
            "image/png": "[encoded data removed]",
            "text/plain": [
              "<Figure size 1440x288 with 20 Axes>"
            ]
          },
          "metadata": {
            "needs_background": "light"
          }
        }
      ]
    },
    {
      "cell_type": "code",
      "metadata": {
        "id": "C6a75PxhyGMZ"
      },
      "source": [
        "#Let's put our convolutional autoencoder to work on an image denoising problem.\n",
        "# It's simple: we will train the autoencoder to map noisy digits images to clean digits images.\n",
        "from keras.datasets import mnist\n",
        "import numpy as np\n",
        "\n",
        "(x_train, _), (x_test, _) = mnist.load_data()\n",
        "\n",
        "x_train = x_train.astype('float32') / 255.\n",
        "x_test = x_test.astype('float32') / 255.\n",
        "x_train = np.reshape(x_train, (len(x_train), 28, 28, 1))\n",
        "x_test = np.reshape(x_test, (len(x_test), 28, 28, 1))\n",
        "\n",
        "noise_factor = 0.5\n",
        "x_train_noisy = x_train + noise_factor * np.random.normal(loc=0.0, scale=1.0, size=x_train.shape) \n",
        "x_test_noisy = x_test + noise_factor * np.random.normal(loc=0.0, scale=1.0, size=x_test.shape) \n",
        "\n",
        "x_train_noisy = np.clip(x_train_noisy, 0., 1.)\n",
        "x_test_noisy = np.clip(x_test_noisy, 0., 1.)"
      ],
      "execution_count": 7,
      "outputs": []
    },
    {
      "cell_type": "code",
      "metadata": {
        "colab": {
          "base_uri": "https://localhost:8080/",
          "height": 129
        },
        "id": "Rkzcl-uPygy7",
        "outputId": "bb742b00-39c1-4625-90f6-7661529e4edd"
      },
      "source": [
        "# Here is what the noisy mages look like\n",
        "n = 10\n",
        "plt.figure(figsize=(20, 2))\n",
        "for i in range(1, n + 1):\n",
        "    ax = plt.subplot(1, n, i)\n",
        "    plt.imshow(x_test_noisy[i].reshape(28, 28))\n",
        "    plt.gray()\n",
        "    ax.get_xaxis().set_visible(False)\n",
        "    ax.get_yaxis().set_visible(False)\n",
        "plt.show()"
      ],
      "execution_count": 8,
      "outputs": [
        {
          "output_type": "display_data",
          "data": {
            "image/png": "[encoded data removed]",
            "text/plain": [
              "<Figure size 1440x144 with 10 Axes>"
            ]
          },
          "metadata": {
            "needs_background": "light"
          }
        }
      ]
    },
    {
      "cell_type": "code",
      "metadata": {
        "id": "CD4NKF4a0CME"
      },
      "source": [
        "input_img = keras.Input(shape=(28, 28, 1))\n",
        "\n",
        "x = layers.Conv2D(32, (3, 3), activation='relu', padding='same')(input_img)\n",
        "x = layers.MaxPooling2D((2, 2), padding='same')(x)\n",
        "x = layers.Conv2D(32, (3, 3), activation='relu', padding='same')(x)\n",
        "encoded = layers.MaxPooling2D((2, 2), padding='same')(x)\n",
        "\n",
        "# At this point the representation is (7, 7, 32)\n",
        "\n",
        "x = layers.Conv2D(32, (3, 3), activation='relu', padding='same')(encoded)\n",
        "x = layers.UpSampling2D((2, 2))(x)\n",
        "x = layers.Conv2D(32, (3, 3), activation='relu', padding='same')(x)\n",
        "x = layers.UpSampling2D((2, 2))(x)\n",
        "decoded = layers.Conv2D(1, (3, 3), activation='sigmoid', padding='same')(x)\n",
        "\n",
        "autoencoder = keras.Model(input_img, decoded)\n",
        "autoencoder.compile(optimizer='adam', loss='binary_crossentropy')"
      ],
      "execution_count": 9,
      "outputs": []
    },
    {
      "cell_type": "code",
      "metadata": {
        "colab": {
          "base_uri": "https://localhost:8080/"
        },
        "id": "GLsP764A0IcV",
        "outputId": "c5443446-9552-49c4-f653-d4f3bd0f1e90"
      },
      "source": [
        "autoencoder.fit(x_train_noisy, x_train,\n",
        "                epochs=100,\n",
        "                batch_size=128,\n",
        "                shuffle=True,\n",
        "                validation_data=(x_test_noisy, x_test))"
      ],
      "execution_count": 10,
      "outputs": [
        {
          "output_type": "stream",
          "name": "stdout",
          "text": [
            "Epoch 1/100\n",
            "469/469 [==============================] - 8s 15ms/step - loss: 0.1662 - val_loss: 0.1162\n",
            "Epoch 2/100\n",
            "469/469 [==============================] - 7s 14ms/step - loss: 0.1131 - val_loss: 0.1087\n",
            "Epoch 3/100\n",
            "469/469 [==============================] - 7s 14ms/step - loss: 0.1080 - val_loss: 0.1051\n",
            "Epoch 4/100\n",
            "469/469 [==============================] - 7s 14ms/step - loss: 0.1052 - val_loss: 0.1040\n",
            "Epoch 5/100\n",
            "469/469 [==============================] - 7s 14ms/step - loss: 0.1033 - val_loss: 0.1018\n",
            "Epoch 6/100\n",
            "469/469 [==============================] - 7s 14ms/step - loss: 0.1021 - val_loss: 0.1006\n",
            "Epoch 7/100\n",
            "469/469 [==============================] - 7s 14ms/step - loss: 0.1009 - val_loss: 0.0995\n",
            "Epoch 8/100\n",
            "469/469 [==============================] - 7s 14ms/step - loss: 0.1000 - val_loss: 0.0988\n",
            "Epoch 9/100\n",
            "469/469 [==============================] - 7s 14ms/step - loss: 0.0994 - val_loss: 0.0986\n",
            "Epoch 10/100\n",
            "469/469 [==============================] - 7s 14ms/step - loss: 0.0988 - val_loss: 0.0980\n",
            "Epoch 11/100\n",
            "469/469 [==============================] - 7s 14ms/step - loss: 0.0983 - val_loss: 0.0972\n",
            "Epoch 12/100\n",
            "469/469 [==============================] - 7s 14ms/step - loss: 0.0978 - val_loss: 0.0969\n",
            "Epoch 13/100\n",
            "469/469 [==============================] - 7s 14ms/step - loss: 0.0975 - val_loss: 0.0964\n",
            "Epoch 14/100\n",
            "469/469 [==============================] - 7s 14ms/step - loss: 0.0971 - val_loss: 0.0964\n",
            "Epoch 15/100\n",
            "469/469 [==============================] - 7s 14ms/step - loss: 0.0969 - val_loss: 0.0962\n",
            "Epoch 16/100\n",
            "469/469 [==============================] - 7s 14ms/step - loss: 0.0966 - val_loss: 0.0965\n",
            "Epoch 17/100\n",
            "469/469 [==============================] - 7s 14ms/step - loss: 0.0964 - val_loss: 0.0957\n",
            "Epoch 18/100\n",
            "469/469 [==============================] - 7s 14ms/step - loss: 0.0962 - val_loss: 0.0957\n",
            "Epoch 19/100\n",
            "469/469 [==============================] - 7s 14ms/step - loss: 0.0961 - val_loss: 0.0957\n",
            "Epoch 20/100\n",
            "469/469 [==============================] - 7s 14ms/step - loss: 0.0959 - val_loss: 0.0952\n",
            "Epoch 21/100\n",
            "469/469 [==============================] - 7s 14ms/step - loss: 0.0958 - val_loss: 0.0952\n",
            "Epoch 22/100\n",
            "469/469 [==============================] - 7s 14ms/step - loss: 0.0956 - val_loss: 0.0954\n",
            "Epoch 23/100\n",
            "469/469 [==============================] - 7s 14ms/step - loss: 0.0955 - val_loss: 0.0951\n",
            "Epoch 24/100\n",
            "469/469 [==============================] - 7s 14ms/step - loss: 0.0954 - val_loss: 0.0950\n",
            "Epoch 25/100\n",
            "469/469 [==============================] - 7s 14ms/step - loss: 0.0953 - val_loss: 0.0948\n",
            "Epoch 26/100\n",
            "469/469 [==============================] - 6s 14ms/step - loss: 0.0952 - val_loss: 0.0947\n",
            "Epoch 27/100\n",
            "469/469 [==============================] - 7s 14ms/step - loss: 0.0951 - val_loss: 0.0947\n",
            "Epoch 28/100\n",
            "469/469 [==============================] - 6s 14ms/step - loss: 0.0951 - val_loss: 0.0946\n",
            "Epoch 29/100\n",
            "469/469 [==============================] - 7s 14ms/step - loss: 0.0949 - val_loss: 0.0946\n",
            "Epoch 30/100\n",
            "469/469 [==============================] - 7s 14ms/step - loss: 0.0948 - val_loss: 0.0946\n",
            "Epoch 31/100\n",
            "469/469 [==============================] - 7s 14ms/step - loss: 0.0948 - val_loss: 0.0949\n",
            "Epoch 32/100\n",
            "469/469 [==============================] - 7s 14ms/step - loss: 0.0948 - val_loss: 0.0948\n",
            "Epoch 33/100\n",
            "469/469 [==============================] - 7s 14ms/step - loss: 0.0946 - val_loss: 0.0944\n",
            "Epoch 34/100\n",
            "469/469 [==============================] - 7s 14ms/step - loss: 0.0946 - val_loss: 0.0943\n",
            "Epoch 35/100\n",
            "469/469 [==============================] - 7s 14ms/step - loss: 0.0945 - val_loss: 0.0942\n",
            "Epoch 36/100\n",
            "469/469 [==============================] - 7s 14ms/step - loss: 0.0945 - val_loss: 0.0942\n",
            "Epoch 37/100\n",
            "469/469 [==============================] - 7s 14ms/step - loss: 0.0944 - val_loss: 0.0942\n",
            "Epoch 38/100\n",
            "469/469 [==============================] - 7s 14ms/step - loss: 0.0944 - val_loss: 0.0941\n",
            "Epoch 39/100\n",
            "469/469 [==============================] - 7s 14ms/step - loss: 0.0943 - val_loss: 0.0940\n",
            "Epoch 40/100\n",
            "469/469 [==============================] - 7s 14ms/step - loss: 0.0943 - val_loss: 0.0941\n",
            "Epoch 41/100\n",
            "469/469 [==============================] - 7s 14ms/step - loss: 0.0943 - val_loss: 0.0939\n",
            "Epoch 42/100\n",
            "469/469 [==============================] - 7s 14ms/step - loss: 0.0942 - val_loss: 0.0940\n",
            "Epoch 43/100\n",
            "469/469 [==============================] - 7s 14ms/step - loss: 0.0942 - val_loss: 0.0940\n",
            "Epoch 44/100\n",
            "469/469 [==============================] - 7s 14ms/step - loss: 0.0941 - val_loss: 0.0939\n",
            "Epoch 45/100\n",
            "469/469 [==============================] - 7s 14ms/step - loss: 0.0941 - val_loss: 0.0939\n",
            "Epoch 46/100\n",
            "469/469 [==============================] - 7s 14ms/step - loss: 0.0941 - val_loss: 0.0939\n",
            "Epoch 47/100\n",
            "469/469 [==============================] - 7s 14ms/step - loss: 0.0940 - val_loss: 0.0943\n",
            "Epoch 48/100\n",
            "469/469 [==============================] - 7s 14ms/step - loss: 0.0940 - val_loss: 0.0938\n",
            "Epoch 49/100\n",
            "469/469 [==============================] - 7s 15ms/step - loss: 0.0940 - val_loss: 0.0939\n",
            "Epoch 50/100\n",
            "469/469 [==============================] - 7s 14ms/step - loss: 0.0940 - val_loss: 0.0937\n",
            "Epoch 51/100\n",
            "469/469 [==============================] - 7s 14ms/step - loss: 0.0939 - val_loss: 0.0938\n",
            "Epoch 52/100\n",
            "469/469 [==============================] - 7s 14ms/step - loss: 0.0939 - val_loss: 0.0937\n",
            "Epoch 53/100\n",
            "469/469 [==============================] - 7s 14ms/step - loss: 0.0939 - val_loss: 0.0940\n",
            "Epoch 54/100\n",
            "469/469 [==============================] - 7s 14ms/step - loss: 0.0938 - val_loss: 0.0938\n",
            "Epoch 55/100\n",
            "469/469 [==============================] - 7s 15ms/step - loss: 0.0938 - val_loss: 0.0937\n",
            "Epoch 56/100\n",
            "469/469 [==============================] - 7s 14ms/step - loss: 0.0938 - val_loss: 0.0937\n",
            "Epoch 57/100\n",
            "469/469 [==============================] - 7s 14ms/step - loss: 0.0938 - val_loss: 0.0936\n",
            "Epoch 58/100\n",
            "469/469 [==============================] - 7s 14ms/step - loss: 0.0937 - val_loss: 0.0938\n",
            "Epoch 59/100\n",
            "469/469 [==============================] - 7s 14ms/step - loss: 0.0937 - val_loss: 0.0936\n",
            "Epoch 60/100\n",
            "469/469 [==============================] - 7s 14ms/step - loss: 0.0937 - val_loss: 0.0937\n",
            "Epoch 61/100\n",
            "469/469 [==============================] - 7s 14ms/step - loss: 0.0937 - val_loss: 0.0938\n",
            "Epoch 62/100\n",
            "469/469 [==============================] - 7s 14ms/step - loss: 0.0937 - val_loss: 0.0936\n",
            "Epoch 63/100\n",
            "469/469 [==============================] - 7s 14ms/step - loss: 0.0937 - val_loss: 0.0935\n",
            "Epoch 64/100\n",
            "469/469 [==============================] - 7s 14ms/step - loss: 0.0936 - val_loss: 0.0936\n",
            "Epoch 65/100\n",
            "469/469 [==============================] - 7s 14ms/step - loss: 0.0936 - val_loss: 0.0935\n",
            "Epoch 66/100\n",
            "469/469 [==============================] - 7s 14ms/step - loss: 0.0936 - val_loss: 0.0936\n",
            "Epoch 67/100\n",
            "469/469 [==============================] - 7s 14ms/step - loss: 0.0936 - val_loss: 0.0936\n",
            "Epoch 68/100\n",
            "469/469 [==============================] - 7s 14ms/step - loss: 0.0935 - val_loss: 0.0935\n",
            "Epoch 69/100\n",
            "469/469 [==============================] - 7s 14ms/step - loss: 0.0935 - val_loss: 0.0938\n",
            "Epoch 70/100\n",
            "469/469 [==============================] - 7s 14ms/step - loss: 0.0936 - val_loss: 0.0935\n",
            "Epoch 71/100\n",
            "469/469 [==============================] - 7s 14ms/step - loss: 0.0935 - val_loss: 0.0934\n",
            "Epoch 72/100\n",
            "469/469 [==============================] - 7s 14ms/step - loss: 0.0935 - val_loss: 0.0936\n",
            "Epoch 73/100\n",
            "469/469 [==============================] - 7s 15ms/step - loss: 0.0935 - val_loss: 0.0934\n",
            "Epoch 74/100\n",
            "469/469 [==============================] - 7s 14ms/step - loss: 0.0935 - val_loss: 0.0935\n",
            "Epoch 75/100\n",
            "469/469 [==============================] - 7s 14ms/step - loss: 0.0935 - val_loss: 0.0940\n",
            "Epoch 76/100\n",
            "469/469 [==============================] - 7s 15ms/step - loss: 0.0934 - val_loss: 0.0934\n",
            "Epoch 77/100\n",
            "469/469 [==============================] - 7s 15ms/step - loss: 0.0934 - val_loss: 0.0934\n",
            "Epoch 78/100\n",
            "469/469 [==============================] - 7s 14ms/step - loss: 0.0934 - val_loss: 0.0936\n",
            "Epoch 79/100\n",
            "469/469 [==============================] - 7s 15ms/step - loss: 0.0934 - val_loss: 0.0940\n",
            "Epoch 80/100\n",
            "469/469 [==============================] - 7s 14ms/step - loss: 0.0934 - val_loss: 0.0934\n",
            "Epoch 81/100\n",
            "469/469 [==============================] - 7s 14ms/step - loss: 0.0934 - val_loss: 0.0933\n",
            "Epoch 82/100\n",
            "469/469 [==============================] - 7s 14ms/step - loss: 0.0933 - val_loss: 0.0935\n",
            "Epoch 83/100\n",
            "469/469 [==============================] - 7s 14ms/step - loss: 0.0934 - val_loss: 0.0933\n",
            "Epoch 84/100\n",
            "469/469 [==============================] - 7s 14ms/step - loss: 0.0933 - val_loss: 0.0934\n",
            "Epoch 85/100\n",
            "469/469 [==============================] - 7s 14ms/step - loss: 0.0933 - val_loss: 0.0933\n",
            "Epoch 86/100\n",
            "469/469 [==============================] - 7s 14ms/step - loss: 0.0933 - val_loss: 0.0933\n",
            "Epoch 87/100\n",
            "469/469 [==============================] - 7s 14ms/step - loss: 0.0933 - val_loss: 0.0934\n",
            "Epoch 88/100\n",
            "469/469 [==============================] - 7s 14ms/step - loss: 0.0933 - val_loss: 0.0932\n",
            "Epoch 89/100\n",
            "469/469 [==============================] - 7s 15ms/step - loss: 0.0933 - val_loss: 0.0933\n",
            "Epoch 90/100\n",
            "469/469 [==============================] - 7s 15ms/step - loss: 0.0933 - val_loss: 0.0933\n",
            "Epoch 91/100\n",
            "469/469 [==============================] - 7s 14ms/step - loss: 0.0933 - val_loss: 0.0934\n",
            "Epoch 92/100\n",
            "469/469 [==============================] - 7s 14ms/step - loss: 0.0932 - val_loss: 0.0936\n",
            "Epoch 93/100\n",
            "469/469 [==============================] - 7s 14ms/step - loss: 0.0932 - val_loss: 0.0933\n",
            "Epoch 94/100\n",
            "469/469 [==============================] - 7s 14ms/step - loss: 0.0932 - val_loss: 0.0933\n",
            "Epoch 95/100\n",
            "469/469 [==============================] - 7s 14ms/step - loss: 0.0932 - val_loss: 0.0933\n",
            "Epoch 96/100\n",
            "469/469 [==============================] - 7s 14ms/step - loss: 0.0932 - val_loss: 0.0934\n",
            "Epoch 97/100\n",
            "469/469 [==============================] - 7s 15ms/step - loss: 0.0932 - val_loss: 0.0933\n",
            "Epoch 98/100\n",
            "469/469 [==============================] - 7s 14ms/step - loss: 0.0932 - val_loss: 0.0933\n",
            "Epoch 99/100\n",
            "469/469 [==============================] - 7s 14ms/step - loss: 0.0932 - val_loss: 0.0933\n",
            "Epoch 100/100\n",
            "469/469 [==============================] - 7s 14ms/step - loss: 0.0932 - val_loss: 0.0933\n"
          ]
        },
        {
          "output_type": "execute_result",
          "data": {
            "text/plain": [
              "<keras.callbacks.History at 0x7fd056eaf5d0>"
            ]
          },
          "metadata": {},
          "execution_count": 10
        }
      ]
    },
    {
      "cell_type": "code",
      "metadata": {
        "colab": {
          "base_uri": "https://localhost:8080/",
          "height": 248
        },
        "id": "wBzOqTCT2_XO",
        "outputId": "39d3f2a2-2323-4729-c183-ef7aa6df7b0c"
      },
      "source": [
        "#Now let's take a look at the results. \n",
        "#Top, the noisy digits fed to the network, and bottom, the digits are reconstructed by the network.\n",
        "decoded_imgs = autoencoder.predict(x_test_noisy)\n",
        "\n",
        "n = 10\n",
        "plt.figure(figsize=(20, 4))\n",
        "for i in range(1, n + 1):\n",
        "    # Display original\n",
        "    ax = plt.subplot(2, n, i)\n",
        "    plt.imshow(x_test_noisy[i].reshape(28, 28))\n",
        "    plt.gray()\n",
        "    ax.get_xaxis().set_visible(False)\n",
        "    ax.get_yaxis().set_visible(False)\n",
        "\n",
        "    # Display reconstruction\n",
        "    ax = plt.subplot(2, n, i + n)\n",
        "    plt.imshow(decoded_imgs[i].reshape(28, 28))\n",
        "    plt.gray()\n",
        "    ax.get_xaxis().set_visible(False)\n",
        "    ax.get_yaxis().set_visible(False)\n",
        "plt.show()\n"
      ],
      "execution_count": 11,
      "outputs": [
        {
          "output_type": "display_data",
          "data": {
            "image/png": "[encoded data removed]",
            "text/plain": [
              "<Figure size 1440x288 with 20 Axes>"
            ]
          },
          "metadata": {
            "needs_background": "light"
          }
        }
      ]
    }
  ]
}