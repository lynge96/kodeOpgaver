{
 "cells": [
  {
   "cell_type": "code",
   "execution_count": 1,
   "id": "1c9d1034-4fe2-4f79-a951-240a748be4cb",
   "metadata": {},
   "outputs": [],
   "source": [
    "# Access db file with langchain\n",
    "# Sila. 24 May 2024"
   ]
  },
  {
   "cell_type": "code",
   "execution_count": 22,
   "id": "208810c0-f4b9-4520-a242-f3b3b057cf9d",
   "metadata": {
    "ExecuteTime": {
     "end_time": "2024-05-29T11:39:16.281129Z",
     "start_time": "2024-05-29T11:39:16.274011Z"
    }
   },
   "outputs": [],
   "source": [
    "# !wget https://github.com/lerocha/chinook-database/raw/master/ChinookDatabase/DataSources/Chinook_Sqlite.sqlite\n",
    "# !mv Chinook_Sqlite.sqlite Chinook.db\n",
    "#\n",
    "# Using\n",
    "# https://huggingface.co/cssupport/t5-small-awesome-text-to-sql"
   ]
  },
  {
   "cell_type": "code",
   "execution_count": 2,
   "id": "31d119a0-a2b0-43d2-9979-1a9b62013e44",
   "metadata": {
    "ExecuteTime": {
     "end_time": "2024-05-29T11:43:08.582858Z",
     "start_time": "2024-05-29T11:43:05.512686Z"
    }
   },
   "outputs": [],
   "source": [
    "from langchain_community.utilities import SQLDatabase"
   ]
  },
  {
   "cell_type": "code",
   "execution_count": 3,
   "id": "b28ceb39-cb4f-4537-8ae5-aee1cb9ac83e",
   "metadata": {
    "ExecuteTime": {
     "end_time": "2024-05-29T11:43:09.558281Z",
     "start_time": "2024-05-29T11:43:09.402817Z"
    }
   },
   "outputs": [],
   "source": [
    "db = SQLDatabase.from_uri(\"sqlite:///Chinook.db\")"
   ]
  },
  {
   "cell_type": "code",
   "execution_count": 4,
   "id": "049c5eae-9d65-413e-a9e2-8aaea30420c4",
   "metadata": {
    "ExecuteTime": {
     "end_time": "2024-05-29T11:43:10.906703Z",
     "start_time": "2024-05-29T11:43:10.883761Z"
    }
   },
   "outputs": [
    {
     "data": {
      "text/plain": "['Album',\n 'Artist',\n 'Customer',\n 'Employee',\n 'Genre',\n 'Invoice',\n 'InvoiceLine',\n 'MediaType',\n 'Playlist',\n 'PlaylistTrack',\n 'Track']"
     },
     "execution_count": 4,
     "metadata": {},
     "output_type": "execute_result"
    }
   ],
   "source": [
    "db.get_usable_table_names()"
   ]
  },
  {
   "cell_type": "code",
   "execution_count": 5,
   "id": "0093c0e8-780f-4e87-9196-c6f5723699d6",
   "metadata": {
    "ExecuteTime": {
     "end_time": "2024-05-29T11:43:14.195587Z",
     "start_time": "2024-05-29T11:43:14.186016Z"
    }
   },
   "outputs": [],
   "source": [
    "result = db.get_usable_table_names()"
   ]
  },
  {
   "cell_type": "code",
   "execution_count": 6,
   "id": "f1c0f621-2d4e-49c5-9406-a54e50139f5b",
   "metadata": {
    "ExecuteTime": {
     "end_time": "2024-05-29T11:43:15.491795Z",
     "start_time": "2024-05-29T11:43:15.466574Z"
    }
   },
   "outputs": [
    {
     "name": "stdout",
     "output_type": "stream",
     "text": [
      "['Album', 'Artist', 'Customer', 'Employee', 'Genre', 'Invoice', 'InvoiceLine', 'MediaType', 'Playlist', 'PlaylistTrack', 'Track']\n"
     ]
    }
   ],
   "source": [
    "print(result)"
   ]
  },
  {
   "cell_type": "code",
   "execution_count": 7,
   "id": "e58a8814-11fb-45ed-abde-c2aa38de6628",
   "metadata": {
    "ExecuteTime": {
     "end_time": "2024-05-29T11:43:22.438477Z",
     "start_time": "2024-05-29T11:43:22.408938Z"
    }
   },
   "outputs": [
    {
     "data": {
      "text/plain": "'[(1, \\'AC/DC\\'), (2, \\'Accept\\'), (3, \\'Aerosmith\\'), (4, \\'Alanis Morissette\\'), (5, \\'Alice In Chains\\'), (6, \\'Antônio Carlos Jobim\\'), (7, \\'Apocalyptica\\'), (8, \\'Audioslave\\'), (9, \\'BackBeat\\'), (10, \\'Billy Cobham\\'), (11, \\'Black Label Society\\'), (12, \\'Black Sabbath\\'), (13, \\'Body Count\\'), (14, \\'Bruce Dickinson\\'), (15, \\'Buddy Guy\\'), (16, \\'Caetano Veloso\\'), (17, \\'Chico Buarque\\'), (18, \\'Chico Science & Nação Zumbi\\'), (19, \\'Cidade Negra\\'), (20, \\'Cláudio Zoli\\'), (21, \\'Various Artists\\'), (22, \\'Led Zeppelin\\'), (23, \\'Frank Zappa & Captain Beefheart\\'), (24, \\'Marcos Valle\\'), (25, \\'Milton Nascimento & Bebeto\\'), (26, \\'Azymuth\\'), (27, \\'Gilberto Gil\\'), (28, \\'João Gilberto\\'), (29, \\'Bebel Gilberto\\'), (30, \\'Jorge Vercilo\\'), (31, \\'Baby Consuelo\\'), (32, \\'Ney Matogrosso\\'), (33, \\'Luiz Melodia\\'), (34, \\'Nando Reis\\'), (35, \\'Pedro Luís & A Parede\\'), (36, \\'O Rappa\\'), (37, \\'Ed Motta\\'), (38, \\'Banda Black Rio\\'), (39, \\'Fernanda Porto\\'), (40, \\'Os Cariocas\\'), (41, \\'Elis Regina\\'), (42, \\'Milton Nascimento\\'), (43, \\'A Cor Do Som\\'), (44, \\'Kid Abelha\\'), (45, \\'Sandra De Sá\\'), (46, \\'Jorge Ben\\'), (47, \\'Hermeto Pascoal\\'), (48, \\'Barão Vermelho\\'), (49, \\'Edson, DJ Marky & DJ Patife Featuring Fernanda Porto\\'), (50, \\'Metallica\\'), (51, \\'Queen\\'), (52, \\'Kiss\\'), (53, \\'Spyro Gyra\\'), (54, \\'Green Day\\'), (55, \\'David Coverdale\\'), (56, \\'Gonzaguinha\\'), (57, \\'Os Mutantes\\'), (58, \\'Deep Purple\\'), (59, \\'Santana\\'), (60, \\'Santana Feat. Dave Matthews\\'), (61, \\'Santana Feat. Everlast\\'), (62, \\'Santana Feat. Rob Thomas\\'), (63, \\'Santana Feat. Lauryn Hill & Cee-Lo\\'), (64, \\'Santana Feat. The Project G&B\\'), (65, \\'Santana Feat. Maná\\'), (66, \\'Santana Feat. Eagle-Eye Cherry\\'), (67, \\'Santana Feat. Eric Clapton\\'), (68, \\'Miles Davis\\'), (69, \\'Gene Krupa\\'), (70, \\'Toquinho & Vinícius\\'), (71, \\'Vinícius De Moraes & Baden Powell\\'), (72, \\'Vinícius De Moraes\\'), (73, \\'Vinícius E Qurteto Em Cy\\'), (74, \\'Vinícius E Odette Lara\\'), (75, \\'Vinicius, Toquinho & Quarteto Em Cy\\'), (76, \\'Creedence Clearwater Revival\\'), (77, \\'Cássia Eller\\'), (78, \\'Def Leppard\\'), (79, \\'Dennis Chambers\\'), (80, \\'Djavan\\'), (81, \\'Eric Clapton\\'), (82, \\'Faith No More\\'), (83, \\'Falamansa\\'), (84, \\'Foo Fighters\\'), (85, \\'Frank Sinatra\\'), (86, \\'Funk Como Le Gusta\\'), (87, \\'Godsmack\\'), (88, \"Guns N\\' Roses\"), (89, \\'Incognito\\'), (90, \\'Iron Maiden\\'), (91, \\'James Brown\\'), (92, \\'Jamiroquai\\'), (93, \\'JET\\'), (94, \\'Jimi Hendrix\\'), (95, \\'Joe Satriani\\'), (96, \\'Jota Quest\\'), (97, \\'João Suplicy\\'), (98, \\'Judas Priest\\'), (99, \\'Legião Urbana\\'), (100, \\'Lenny Kravitz\\'), (101, \\'Lulu Santos\\'), (102, \\'Marillion\\'), (103, \\'Marisa Monte\\'), (104, \\'Marvin Gaye\\'), (105, \\'Men At Work\\'), (106, \\'Motörhead\\'), (107, \\'Motörhead & Girlschool\\'), (108, \\'Mônica Marianno\\'), (109, \\'Mötley Crüe\\'), (110, \\'Nirvana\\'), (111, \\'O Terço\\'), (112, \\'Olodum\\'), (113, \\'Os Paralamas Do Sucesso\\'), (114, \\'Ozzy Osbourne\\'), (115, \\'Page & Plant\\'), (116, \\'Passengers\\'), (117, \"Paul D\\'Ianno\"), (118, \\'Pearl Jam\\'), (119, \\'Peter Tosh\\'), (120, \\'Pink Floyd\\'), (121, \\'Planet Hemp\\'), (122, \\'R.E.M. Feat. Kate Pearson\\'), (123, \\'R.E.M. Feat. KRS-One\\'), (124, \\'R.E.M.\\'), (125, \\'Raimundos\\'), (126, \\'Raul Seixas\\'), (127, \\'Red Hot Chili Peppers\\'), (128, \\'Rush\\'), (129, \\'Simply Red\\'), (130, \\'Skank\\'), (131, \\'Smashing Pumpkins\\'), (132, \\'Soundgarden\\'), (133, \\'Stevie Ray Vaughan & Double Trouble\\'), (134, \\'Stone Temple Pilots\\'), (135, \\'System Of A Down\\'), (136, \\'Terry Bozzio, Tony Levin & Steve Stevens\\'), (137, \\'The Black Crowes\\'), (138, \\'The Clash\\'), (139, \\'The Cult\\'), (140, \\'The Doors\\'), (141, \\'The Police\\'), (142, \\'The Rolling Stones\\'), (143, \\'The Tea Party\\'), (144, \\'The Who\\'), (145, \\'Tim Maia\\'), (146, \\'Titãs\\'), (147, \\'Battlestar Galactica\\'), (148, \\'Heroes\\'), (149, \\'Lost\\'), (150, \\'U2\\'), (151, \\'UB40\\'), (152, \\'Van Halen\\'), (153, \\'Velvet Revolver\\'), (154, \\'Whitesnake\\'), (155, \\'Zeca Pagodinho\\'), (156, \\'The Office\\'), (157, \\'Dread Zeppelin\\'), (158, \\'Battlestar Galactica (Classic)\\'), (159, \\'Aquaman\\'), (160, \\'Christina Aguilera featuring BigElf\\'), (161, \"Aerosmith & Sierra Leone\\'s Refugee Allstars\"), (162, \\'Los Lonely Boys\\'), (163, \\'Corinne Bailey Rae\\'), (164, \\'Dhani Harrison & Jakob Dylan\\'), (165, \\'Jackson Browne\\'), (166, \\'Avril Lavigne\\'), (167, \\'Big & Rich\\'), (168, \"Youssou N\\'Dour\"), (169, \\'Black Eyed Peas\\'), (170, \\'Jack Johnson\\'), (171, \\'Ben Harper\\'), (172, \\'Snow Patrol\\'), (173, \\'Matisyahu\\'), (174, \\'The Postal Service\\'), (175, \\'Jaguares\\'), (176, \\'The Flaming Lips\\'), (177, \"Jack\\'s Mannequin & Mick Fleetwood\"), (178, \\'Regina Spektor\\'), (179, \\'Scorpions\\'), (180, \\'House Of Pain\\'), (181, \\'Xis\\'), (182, \\'Nega Gizza\\'), (183, \\'Gustavo & Andres Veiga & Salazar\\'), (184, \\'Rodox\\'), (185, \\'Charlie Brown Jr.\\'), (186, \\'Pedro Luís E A Parede\\'), (187, \\'Los Hermanos\\'), (188, \\'Mundo Livre S/A\\'), (189, \\'Otto\\'), (190, \\'Instituto\\'), (191, \\'Nação Zumbi\\'), (192, \\'DJ Dolores & Orchestra Santa Massa\\'), (193, \\'Seu Jorge\\'), (194, \\'Sabotage E Instituto\\'), (195, \\'Stereo Maracana\\'), (196, \\'Cake\\'), (197, \\'Aisha Duo\\'), (198, \\'Habib Koité and Bamada\\'), (199, \\'Karsh Kale\\'), (200, \\'The Posies\\'), (201, \\'Luciana Souza/Romero Lubambo\\'), (202, \\'Aaron Goldberg\\'), (203, \\'Nicolaus Esterhazy Sinfonia\\'), (204, \\'Temple of the Dog\\'), (205, \\'Chris Cornell\\'), (206, \\'Alberto Turco & Nova Schola Gregoriana\\'), (207, \\'Richard Marlow & The Choir of Trinity College, Cambridge\\'), (208, \\'English Concert & Trevor Pinnock\\'), (209, \\'Anne-Sophie Mutter, Herbert Von Karajan & Wiener Philharmoniker\\'), (210, \\'Hilary Hahn, Jeffrey Kahane, Los Angeles Chamber Orchestra & Margaret Batjer\\'), (211, \\'Wilhelm Kempff\\'), (212, \\'Yo-Yo Ma\\'), (213, \\'Scholars Baroque Ensemble\\'), (214, \\'Academy of St. Martin in the Fields & Sir Neville Marriner\\'), (215, \\'Academy of St. Martin in the Fields Chamber Ensemble & Sir Neville Marriner\\'), (216, \\'Berliner Philharmoniker, Claudio Abbado & Sabine Meyer\\'), (217, \\'Royal Philharmonic Orchestra & Sir Thomas Beecham\\'), (218, \\'Orchestre Révolutionnaire et Romantique & John Eliot Gardiner\\'), (219, \\'Britten Sinfonia, Ivor Bolton & Lesley Garrett\\'), (220, \\'Chicago Symphony Chorus, Chicago Symphony Orchestra & Sir Georg Solti\\'), (221, \\'Sir Georg Solti & Wiener Philharmoniker\\'), (222, \\'Academy of St. Martin in the Fields, John Birch, Sir Neville Marriner & Sylvia McNair\\'), (223, \\'London Symphony Orchestra & Sir Charles Mackerras\\'), (224, \\'Barry Wordsworth & BBC Concert Orchestra\\'), (225, \\'Herbert Von Karajan, Mirella Freni & Wiener Philharmoniker\\'), (226, \\'Eugene Ormandy\\'), (227, \\'Luciano Pavarotti\\'), (228, \\'Leonard Bernstein & New York Philharmonic\\'), (229, \\'Boston Symphony Orchestra & Seiji Ozawa\\'), (230, \\'Aaron Copland & London Symphony Orchestra\\'), (231, \\'Ton Koopman\\'), (232, \\'Sergei Prokofiev & Yuri Temirkanov\\'), (233, \\'Chicago Symphony Orchestra & Fritz Reiner\\'), (234, \\'Orchestra of The Age of Enlightenment\\'), (235, \\'Emanuel Ax, Eugene Ormandy & Philadelphia Orchestra\\'), (236, \\'James Levine\\'), (237, \\'Berliner Philharmoniker & Hans Rosbaud\\'), (238, \\'Maurizio Pollini\\'), (239, \\'Academy of St. Martin in the Fields, Sir Neville Marriner & William Bennett\\'), (240, \\'Gustav Mahler\\'), (241, \\'Felix Schmidt, London Symphony Orchestra & Rafael Frühbeck de Burgos\\'), (242, \\'Edo de Waart & San Francisco Symphony\\'), (243, \\'Antal Doráti & London Symphony Orchestra\\'), (244, \\'Choir Of Westminster Abbey & Simon Preston\\'), (245, \\'Michael Tilson Thomas & San Francisco Symphony\\'), (246, \\'Chor der Wiener Staatsoper, Herbert Von Karajan & Wiener Philharmoniker\\'), (247, \"The King\\'s Singers\"), (248, \\'Berliner Philharmoniker & Herbert Von Karajan\\'), (249, \\'Sir Georg Solti, Sumi Jo & Wiener Philharmoniker\\'), (250, \"Christopher O\\'Riley\"), (251, \\'Fretwork\\'), (252, \\'Amy Winehouse\\'), (253, \\'Calexico\\'), (254, \\'Otto Klemperer & Philharmonia Orchestra\\'), (255, \\'Yehudi Menuhin\\'), (256, \\'Philharmonia Orchestra & Sir Neville Marriner\\'), (257, \\'Academy of St. Martin in the Fields, Sir Neville Marriner & Thurston Dart\\'), (258, \\'Les Arts Florissants & William Christie\\'), (259, \\'The 12 Cellists of The Berlin Philharmonic\\'), (260, \\'Adrian Leaper & Doreen de Feis\\'), (261, \\'Roger Norrington, London Classical Players\\'), (262, \"Charles Dutoit & L\\'Orchestre Symphonique de Montréal\"), (263, \\'Equale Brass Ensemble, John Eliot Gardiner & Munich Monteverdi Orchestra and Choir\\'), (264, \"Kent Nagano and Orchestre de l\\'Opéra de Lyon\"), (265, \\'Julian Bream\\'), (266, \\'Martin Roscoe\\'), (267, \\'Göteborgs Symfoniker & Neeme Järvi\\'), (268, \\'Itzhak Perlman\\'), (269, \\'Michele Campanella\\'), (270, \\'Gerald Moore\\'), (271, \\'Mela Tenenbaum, Pro Musica Prague & Richard Kapp\\'), (272, \\'Emerson String Quartet\\'), (273, \\'C. Monteverdi, Nigel Rogers - Chiaroscuro; London Baroque; London Cornett & Sackbu\\'), (274, \\'Nash Ensemble\\'), (275, \\'Philip Glass Ensemble\\')]'"
     },
     "execution_count": 7,
     "metadata": {},
     "output_type": "execute_result"
    }
   ],
   "source": [
    "db.run(\"SELECT * FROM Artist\")"
   ]
  },
  {
   "cell_type": "code",
   "execution_count": 8,
   "id": "81ccbf8d-ad0d-41da-ac6a-79f232813813",
   "metadata": {
    "ExecuteTime": {
     "end_time": "2024-05-29T11:43:27.407410Z",
     "start_time": "2024-05-29T11:43:27.396645Z"
    }
   },
   "outputs": [
    {
     "name": "stdout",
     "output_type": "stream",
     "text": [
      "<class 'sqlalchemy.engine.cursor.CursorResult'>\n",
      "[{'ArtistId': 1, 'Name': 'AC/DC'},\n",
      " {'ArtistId': 2, 'Name': 'Accept'},\n",
      " {'ArtistId': 3, 'Name': 'Aerosmith'},\n",
      " {'ArtistId': 4, 'Name': 'Alanis Morissette'},\n",
      " {'ArtistId': 5, 'Name': 'Alice In Chains'},\n",
      " {'ArtistId': 6, 'Name': 'Antônio Carlos Jobim'},\n",
      " {'ArtistId': 7, 'Name': 'Apocalyptica'},\n",
      " {'ArtistId': 8, 'Name': 'Audioslave'},\n",
      " {'ArtistId': 9, 'Name': 'BackBeat'},\n",
      " {'ArtistId': 10, 'Name': 'Billy Cobham'},\n",
      " {'ArtistId': 11, 'Name': 'Black Label Society'},\n",
      " {'ArtistId': 12, 'Name': 'Black Sabbath'}]\n"
     ]
    }
   ],
   "source": [
    "from pprint import pprint\n",
    "result = db.run(\"SELECT * FROM Artist LIMIT 12;\", fetch=\"cursor\")\n",
    "print(type(result))\n",
    "pprint(list(result.mappings()))"
   ]
  },
  {
   "cell_type": "code",
   "execution_count": 9,
   "id": "8b04f853-14d4-4f40-82c5-51bc0aaf688d",
   "metadata": {
    "ExecuteTime": {
     "end_time": "2024-05-29T11:43:33.174270Z",
     "start_time": "2024-05-29T11:43:33.160532Z"
    }
   },
   "outputs": [
    {
     "name": "stdout",
     "output_type": "stream",
     "text": [
      "[{'ArtistId': 1, 'Name': 'AC/DC'},\n",
      " {'ArtistId': 2, 'Name': 'Accept'},\n",
      " {'ArtistId': 3, 'Name': 'Aerosmith'},\n",
      " {'ArtistId': 4, 'Name': 'Alanis Morissette'},\n",
      " {'ArtistId': 5, 'Name': 'Alice In Chains'},\n",
      " {'ArtistId': 6, 'Name': 'Antônio Carlos Jobim'},\n",
      " {'ArtistId': 7, 'Name': 'Apocalyptica'},\n",
      " {'ArtistId': 8, 'Name': 'Audioslave'},\n",
      " {'ArtistId': 26, 'Name': 'Azymuth'},\n",
      " {'ArtistId': 43, 'Name': 'A Cor Do Som'},\n",
      " {'ArtistId': 159, 'Name': 'Aquaman'},\n",
      " {'ArtistId': 161, 'Name': \"Aerosmith & Sierra Leone's Refugee Allstars\"},\n",
      " {'ArtistId': 166, 'Name': 'Avril Lavigne'},\n",
      " {'ArtistId': 197, 'Name': 'Aisha Duo'},\n",
      " {'ArtistId': 202, 'Name': 'Aaron Goldberg'},\n",
      " {'ArtistId': 206, 'Name': 'Alberto Turco & Nova Schola Gregoriana'},\n",
      " {'ArtistId': 209, 'Name': 'Anne-Sophie Mutter, Herbert Von Karajan & Wiener Philharmoniker'},\n",
      " {'ArtistId': 214, 'Name': 'Academy of St. Martin in the Fields & Sir Neville Marriner'},\n",
      " {'ArtistId': 215, 'Name': 'Academy of St. Martin in the Fields Chamber Ensemble & Sir Neville Marriner'},\n",
      " {'ArtistId': 222, 'Name': 'Academy of St. Martin in the Fields, John Birch, Sir Neville Marriner & Sylvia McNair'},\n",
      " {'ArtistId': 230, 'Name': 'Aaron Copland & London Symphony Orchestra'},\n",
      " {'ArtistId': 239, 'Name': 'Academy of St. Martin in the Fields, Sir Neville Marriner & William Bennett'},\n",
      " {'ArtistId': 243, 'Name': 'Antal Doráti & London Symphony Orchestra'},\n",
      " {'ArtistId': 252, 'Name': 'Amy Winehouse'},\n",
      " {'ArtistId': 257, 'Name': 'Academy of St. Martin in the Fields, Sir Neville Marriner & Thurston Dart'},\n",
      " {'ArtistId': 260, 'Name': 'Adrian Leaper & Doreen de Feis'}]\n"
     ]
    }
   ],
   "source": [
    "result = db.run(\n",
    "    \"SELECT * FROM Artist WHERE Name LIKE :search;\",\n",
    "    parameters={\"search\": \"a%\"},\n",
    "    fetch=\"cursor\",\n",
    ")\n",
    "pprint(list(result.mappings()))"
   ]
  },
  {
   "cell_type": "code",
   "execution_count": 10,
   "id": "0f88c8e9-735c-4a9b-8e58-400eb2348ae1",
   "metadata": {
    "ExecuteTime": {
     "end_time": "2024-05-29T11:43:36.266368Z",
     "start_time": "2024-05-29T11:43:36.250150Z"
    }
   },
   "outputs": [
    {
     "name": "stdout",
     "output_type": "stream",
     "text": [
      "<class 'sqlalchemy.engine.cursor.CursorResult'>\n",
      "[{'AlbumId': 1, 'Title': 'For Those About To Rock We Salute You', 'ArtistId': 1},\n",
      " {'AlbumId': 2, 'Title': 'Balls to the Wall', 'ArtistId': 2},\n",
      " {'AlbumId': 3, 'Title': 'Restless and Wild', 'ArtistId': 2},\n",
      " {'AlbumId': 4, 'Title': 'Let There Be Rock', 'ArtistId': 1},\n",
      " {'AlbumId': 5, 'Title': 'Big Ones', 'ArtistId': 3},\n",
      " {'AlbumId': 6, 'Title': 'Jagged Little Pill', 'ArtistId': 4},\n",
      " {'AlbumId': 7, 'Title': 'Facelift', 'ArtistId': 5},\n",
      " {'AlbumId': 8, 'Title': 'Warner 25 Anos', 'ArtistId': 6},\n",
      " {'AlbumId': 9, 'Title': 'Plays Metallica By Four Cellos', 'ArtistId': 7},\n",
      " {'AlbumId': 10, 'Title': 'Audioslave', 'ArtistId': 8},\n",
      " {'AlbumId': 11, 'Title': 'Out Of Exile', 'ArtistId': 8},\n",
      " {'AlbumId': 12, 'Title': 'BackBeat Soundtrack', 'ArtistId': 9}]\n"
     ]
    }
   ],
   "source": [
    "result = db.run(\"SELECT * FROM Album LIMIT 12;\", fetch=\"cursor\")\n",
    "print(type(result))\n",
    "pprint(list(result.mappings()))"
   ]
  },
  {
   "cell_type": "code",
   "execution_count": 11,
   "id": "fe257ca0-d377-4480-8360-921e90def516",
   "metadata": {
    "ExecuteTime": {
     "end_time": "2024-05-29T11:43:39.342228Z",
     "start_time": "2024-05-29T11:43:39.321533Z"
    }
   },
   "outputs": [
    {
     "name": "stdout",
     "output_type": "stream",
     "text": [
      "[{'AlbumId': 10, 'Title': 'Audioslave', 'ArtistId': 8},\n",
      " {'AlbumId': 14, 'Title': 'Alcohol Fueled Brewtality Live! [Disc 1]', 'ArtistId': 11},\n",
      " {'AlbumId': 15, 'Title': 'Alcohol Fueled Brewtality Live! [Disc 2]', 'ArtistId': 11},\n",
      " {'AlbumId': 24, 'Title': 'Afrociberdelia', 'ArtistId': 18},\n",
      " {'AlbumId': 26, 'Title': 'Acústico MTV [Live]', 'ArtistId': 19},\n",
      " {'AlbumId': 29, 'Title': 'Axé Bahia 2001', 'ArtistId': 21},\n",
      " {'AlbumId': 74, 'Title': 'Album Of The Year', 'ArtistId': 82},\n",
      " {'AlbumId': 75, 'Title': 'Angel Dust', 'ArtistId': 82},\n",
      " {'AlbumId': 85, 'Title': 'As Canções de Eu Tu Eles', 'ArtistId': 27},\n",
      " {'AlbumId': 89, 'Title': 'American Idiot', 'ArtistId': 54},\n",
      " {'AlbumId': 90, 'Title': 'Appetite for Destruction', 'ArtistId': 88},\n",
      " {'AlbumId': 94, 'Title': 'A Matter of Life and Death', 'ArtistId': 90},\n",
      " {'AlbumId': 95, 'Title': 'A Real Dead One', 'ArtistId': 90},\n",
      " {'AlbumId': 96, 'Title': 'A Real Live One', 'ArtistId': 90},\n",
      " {'AlbumId': 120, 'Title': 'Are You Experienced?', 'ArtistId': 94},\n",
      " {'AlbumId': 139, 'Title': 'A TempestadeTempestade Ou O Livro Dos Dias', 'ArtistId': 99},\n",
      " {'AlbumId': 160, 'Title': 'Ace Of Spades', 'ArtistId': 106},\n",
      " {'AlbumId': 167, 'Title': 'Acústico MTV', 'ArtistId': 113},\n",
      " {'AlbumId': 168, 'Title': 'Arquivo II', 'ArtistId': 113},\n",
      " {'AlbumId': 169, 'Title': 'Arquivo Os Paralamas Do Sucesso', 'ArtistId': 113},\n",
      " {'AlbumId': 203, 'Title': 'A-Sides', 'ArtistId': 132},\n",
      " {'AlbumId': 224, 'Title': 'Acústico', 'ArtistId': 146},\n",
      " {'AlbumId': 232, 'Title': 'Achtung Baby', 'ArtistId': 150},\n",
      " {'AlbumId': 233, 'Title': \"All That You Can't Leave Behind\", 'ArtistId': 150},\n",
      " {'AlbumId': 248, 'Title': 'Ao Vivo [IMPORT]', 'ArtistId': 155},\n",
      " {'AlbumId': 254, 'Title': 'Aquaman', 'ArtistId': 159},\n",
      " {'AlbumId': 272, 'Title': 'Adorate Deum: Gregorian Chant from the Proper of the Mass', 'ArtistId': 206},\n",
      " {'AlbumId': 273, 'Title': 'Allegri: Miserere', 'ArtistId': 207},\n",
      " {'AlbumId': 285, 'Title': 'A Soprano Inspired', 'ArtistId': 219},\n",
      " {'AlbumId': 296, 'Title': 'A Copland Celebration, Vol. I', 'ArtistId': 230},\n",
      " {'AlbumId': 307, 'Title': 'Adams, John: The Chairman Dances', 'ArtistId': 242},\n",
      " {'AlbumId': 319, 'Title': 'Armada: Music from the Courts of England and Spain', 'ArtistId': 251}]\n"
     ]
    }
   ],
   "source": [
    "result = db.run(\n",
    "    \"SELECT * FROM Album WHERE title LIKE :search;\",\n",
    "    parameters={\"search\": \"a%\"},\n",
    "    fetch=\"cursor\",\n",
    ")\n",
    "pprint(list(result.mappings()))"
   ]
  },
  {
   "cell_type": "code",
   "execution_count": 13,
   "id": "e7135de1-4ccc-4328-869e-3bea8f19305b",
   "metadata": {
    "ExecuteTime": {
     "end_time": "2024-05-29T11:46:39.493670Z",
     "start_time": "2024-05-29T11:46:39.457207Z"
    }
   },
   "outputs": [
    {
     "ename": "ModuleNotFoundError",
     "evalue": "No module named 'torch'",
     "output_type": "error",
     "traceback": [
      "\u001B[1;31m---------------------------------------------------------------------------\u001B[0m",
      "\u001B[1;31mModuleNotFoundError\u001B[0m                       Traceback (most recent call last)",
      "Cell \u001B[1;32mIn[13], line 1\u001B[0m\n\u001B[1;32m----> 1\u001B[0m \u001B[38;5;28;01mimport\u001B[39;00m \u001B[38;5;21;01mtorch\u001B[39;00m\n\u001B[0;32m      2\u001B[0m \u001B[38;5;28;01mfrom\u001B[39;00m \u001B[38;5;21;01mtransformers\u001B[39;00m \u001B[38;5;28;01mimport\u001B[39;00m T5Tokenizer, T5ForConditionalGeneration\n",
      "\u001B[1;31mModuleNotFoundError\u001B[0m: No module named 'torch'"
     ]
    }
   ],
   "source": [
    "import torch\n",
    "from transformers import T5Tokenizer, T5ForConditionalGeneration"
   ]
  },
  {
   "cell_type": "code",
   "execution_count": 331,
   "id": "33a36b97-19ea-4d51-b8cd-a62127a2391c",
   "metadata": {},
   "outputs": [
    {
     "name": "stderr",
     "output_type": "stream",
     "text": [
      "Special tokens have been added in the vocabulary, make sure the associated word embeddings are fine-tuned or trained.\n"
     ]
    }
   ],
   "source": [
    "# Initialize the tokenizer from Hugging Face Transformers library\n",
    "tokenizer = T5Tokenizer.from_pretrained('t5-small')"
   ]
  },
  {
   "cell_type": "code",
   "execution_count": 332,
   "id": "3eed823c-a5a3-404e-aa14-db475e12e59c",
   "metadata": {},
   "outputs": [
    {
     "data": {
      "text/plain": [
       "T5ForConditionalGeneration(\n",
       "  (shared): Embedding(32128, 512)\n",
       "  (encoder): T5Stack(\n",
       "    (embed_tokens): Embedding(32128, 512)\n",
       "    (block): ModuleList(\n",
       "      (0): T5Block(\n",
       "        (layer): ModuleList(\n",
       "          (0): T5LayerSelfAttention(\n",
       "            (SelfAttention): T5Attention(\n",
       "              (q): Linear(in_features=512, out_features=512, bias=False)\n",
       "              (k): Linear(in_features=512, out_features=512, bias=False)\n",
       "              (v): Linear(in_features=512, out_features=512, bias=False)\n",
       "              (o): Linear(in_features=512, out_features=512, bias=False)\n",
       "              (relative_attention_bias): Embedding(32, 8)\n",
       "            )\n",
       "            (layer_norm): T5LayerNorm()\n",
       "            (dropout): Dropout(p=0.1, inplace=False)\n",
       "          )\n",
       "          (1): T5LayerFF(\n",
       "            (DenseReluDense): T5DenseActDense(\n",
       "              (wi): Linear(in_features=512, out_features=2048, bias=False)\n",
       "              (wo): Linear(in_features=2048, out_features=512, bias=False)\n",
       "              (dropout): Dropout(p=0.1, inplace=False)\n",
       "              (act): ReLU()\n",
       "            )\n",
       "            (layer_norm): T5LayerNorm()\n",
       "            (dropout): Dropout(p=0.1, inplace=False)\n",
       "          )\n",
       "        )\n",
       "      )\n",
       "      (1-5): 5 x T5Block(\n",
       "        (layer): ModuleList(\n",
       "          (0): T5LayerSelfAttention(\n",
       "            (SelfAttention): T5Attention(\n",
       "              (q): Linear(in_features=512, out_features=512, bias=False)\n",
       "              (k): Linear(in_features=512, out_features=512, bias=False)\n",
       "              (v): Linear(in_features=512, out_features=512, bias=False)\n",
       "              (o): Linear(in_features=512, out_features=512, bias=False)\n",
       "            )\n",
       "            (layer_norm): T5LayerNorm()\n",
       "            (dropout): Dropout(p=0.1, inplace=False)\n",
       "          )\n",
       "          (1): T5LayerFF(\n",
       "            (DenseReluDense): T5DenseActDense(\n",
       "              (wi): Linear(in_features=512, out_features=2048, bias=False)\n",
       "              (wo): Linear(in_features=2048, out_features=512, bias=False)\n",
       "              (dropout): Dropout(p=0.1, inplace=False)\n",
       "              (act): ReLU()\n",
       "            )\n",
       "            (layer_norm): T5LayerNorm()\n",
       "            (dropout): Dropout(p=0.1, inplace=False)\n",
       "          )\n",
       "        )\n",
       "      )\n",
       "    )\n",
       "    (final_layer_norm): T5LayerNorm()\n",
       "    (dropout): Dropout(p=0.1, inplace=False)\n",
       "  )\n",
       "  (decoder): T5Stack(\n",
       "    (embed_tokens): Embedding(32128, 512)\n",
       "    (block): ModuleList(\n",
       "      (0): T5Block(\n",
       "        (layer): ModuleList(\n",
       "          (0): T5LayerSelfAttention(\n",
       "            (SelfAttention): T5Attention(\n",
       "              (q): Linear(in_features=512, out_features=512, bias=False)\n",
       "              (k): Linear(in_features=512, out_features=512, bias=False)\n",
       "              (v): Linear(in_features=512, out_features=512, bias=False)\n",
       "              (o): Linear(in_features=512, out_features=512, bias=False)\n",
       "              (relative_attention_bias): Embedding(32, 8)\n",
       "            )\n",
       "            (layer_norm): T5LayerNorm()\n",
       "            (dropout): Dropout(p=0.1, inplace=False)\n",
       "          )\n",
       "          (1): T5LayerCrossAttention(\n",
       "            (EncDecAttention): T5Attention(\n",
       "              (q): Linear(in_features=512, out_features=512, bias=False)\n",
       "              (k): Linear(in_features=512, out_features=512, bias=False)\n",
       "              (v): Linear(in_features=512, out_features=512, bias=False)\n",
       "              (o): Linear(in_features=512, out_features=512, bias=False)\n",
       "            )\n",
       "            (layer_norm): T5LayerNorm()\n",
       "            (dropout): Dropout(p=0.1, inplace=False)\n",
       "          )\n",
       "          (2): T5LayerFF(\n",
       "            (DenseReluDense): T5DenseActDense(\n",
       "              (wi): Linear(in_features=512, out_features=2048, bias=False)\n",
       "              (wo): Linear(in_features=2048, out_features=512, bias=False)\n",
       "              (dropout): Dropout(p=0.1, inplace=False)\n",
       "              (act): ReLU()\n",
       "            )\n",
       "            (layer_norm): T5LayerNorm()\n",
       "            (dropout): Dropout(p=0.1, inplace=False)\n",
       "          )\n",
       "        )\n",
       "      )\n",
       "      (1-5): 5 x T5Block(\n",
       "        (layer): ModuleList(\n",
       "          (0): T5LayerSelfAttention(\n",
       "            (SelfAttention): T5Attention(\n",
       "              (q): Linear(in_features=512, out_features=512, bias=False)\n",
       "              (k): Linear(in_features=512, out_features=512, bias=False)\n",
       "              (v): Linear(in_features=512, out_features=512, bias=False)\n",
       "              (o): Linear(in_features=512, out_features=512, bias=False)\n",
       "            )\n",
       "            (layer_norm): T5LayerNorm()\n",
       "            (dropout): Dropout(p=0.1, inplace=False)\n",
       "          )\n",
       "          (1): T5LayerCrossAttention(\n",
       "            (EncDecAttention): T5Attention(\n",
       "              (q): Linear(in_features=512, out_features=512, bias=False)\n",
       "              (k): Linear(in_features=512, out_features=512, bias=False)\n",
       "              (v): Linear(in_features=512, out_features=512, bias=False)\n",
       "              (o): Linear(in_features=512, out_features=512, bias=False)\n",
       "            )\n",
       "            (layer_norm): T5LayerNorm()\n",
       "            (dropout): Dropout(p=0.1, inplace=False)\n",
       "          )\n",
       "          (2): T5LayerFF(\n",
       "            (DenseReluDense): T5DenseActDense(\n",
       "              (wi): Linear(in_features=512, out_features=2048, bias=False)\n",
       "              (wo): Linear(in_features=2048, out_features=512, bias=False)\n",
       "              (dropout): Dropout(p=0.1, inplace=False)\n",
       "              (act): ReLU()\n",
       "            )\n",
       "            (layer_norm): T5LayerNorm()\n",
       "            (dropout): Dropout(p=0.1, inplace=False)\n",
       "          )\n",
       "        )\n",
       "      )\n",
       "    )\n",
       "    (final_layer_norm): T5LayerNorm()\n",
       "    (dropout): Dropout(p=0.1, inplace=False)\n",
       "  )\n",
       "  (lm_head): Linear(in_features=512, out_features=32128, bias=False)\n",
       ")"
      ]
     },
     "execution_count": 332,
     "metadata": {},
     "output_type": "execute_result"
    }
   ],
   "source": [
    "# Load the model\n",
    "device = torch.device(\"cuda\" if torch.cuda.is_available() else \"cpu\")\n",
    "model = T5ForConditionalGeneration.from_pretrained('cssupport/t5-small-awesome-text-to-sql')\n",
    "model = model.to(device)\n",
    "model.eval()"
   ]
  },
  {
   "cell_type": "code",
   "execution_count": 333,
   "id": "6a42302a-9759-4566-93ab-91c6f4776bba",
   "metadata": {},
   "outputs": [],
   "source": [
    "def generate_sql(input_prompt):\n",
    "    # Tokenize the input prompt\n",
    "    inputs = tokenizer(input_prompt, padding=True, truncation=True, return_tensors=\"pt\").to(device)\n",
    "    \n",
    "    # Forward pass\n",
    "    with torch.no_grad():\n",
    "        outputs = model.generate(**inputs, max_length=512)\n",
    "    \n",
    "    # Decode the output IDs to a string (SQL query in this case)\n",
    "    generated_sql = tokenizer.decode(outputs[0], skip_special_tokens=True)\n",
    "    \n",
    "    return generated_sql"
   ]
  },
  {
   "cell_type": "code",
   "execution_count": 334,
   "id": "601d641b-9abc-46b6-96ae-ae9596a0b364",
   "metadata": {},
   "outputs": [],
   "source": [
    "input_prompt = \"tables:\\n\" + \"CREATE TABLE Album (Title VARCHAR)\" + \"\\n\" + \"query for:\" + \"List album where name include rock\""
   ]
  },
  {
   "cell_type": "code",
   "execution_count": 335,
   "id": "e2f6861f-69fa-4222-899a-146a10464a1a",
   "metadata": {},
   "outputs": [],
   "source": [
    "generated_sql = generate_sql(input_prompt)"
   ]
  },
  {
   "cell_type": "code",
   "execution_count": 336,
   "id": "dfcf71a8-eae0-4df7-b1a1-96a4ee47f875",
   "metadata": {},
   "outputs": [
    {
     "name": "stdout",
     "output_type": "stream",
     "text": [
      "The generated SQL query is: SELECT Title FROM Album WHERE Title LIKE '%Rock%'\n"
     ]
    }
   ],
   "source": [
    "print(f\"The generated SQL query is: {generated_sql}\")"
   ]
  },
  {
   "cell_type": "code",
   "execution_count": 337,
   "id": "5325a1fd-5d41-476d-8813-dc901dd45234",
   "metadata": {},
   "outputs": [
    {
     "name": "stdout",
     "output_type": "stream",
     "text": [
      "<class 'sqlalchemy.engine.cursor.CursorResult'>\n",
      "[{'AlbumId': 1, 'Title': 'For Those About To Rock We Salute You', 'ArtistId': 1},\n",
      " {'AlbumId': 2, 'Title': 'Balls to the Wall', 'ArtistId': 2},\n",
      " {'AlbumId': 3, 'Title': 'Restless and Wild', 'ArtistId': 2},\n",
      " {'AlbumId': 4, 'Title': 'Let There Be Rock', 'ArtistId': 1},\n",
      " {'AlbumId': 5, 'Title': 'Big Ones', 'ArtistId': 3},\n",
      " {'AlbumId': 6, 'Title': 'Jagged Little Pill', 'ArtistId': 4},\n",
      " {'AlbumId': 7, 'Title': 'Facelift', 'ArtistId': 5},\n",
      " {'AlbumId': 8, 'Title': 'Warner 25 Anos', 'ArtistId': 6},\n",
      " {'AlbumId': 9, 'Title': 'Plays Metallica By Four Cellos', 'ArtistId': 7},\n",
      " {'AlbumId': 10, 'Title': 'Audioslave', 'ArtistId': 8},\n",
      " {'AlbumId': 11, 'Title': 'Out Of Exile', 'ArtistId': 8},\n",
      " {'AlbumId': 12, 'Title': 'BackBeat Soundtrack', 'ArtistId': 9}]\n"
     ]
    }
   ],
   "source": [
    "result = db.run(\"SELECT * FROM Album LIMIT 12;\", fetch=\"cursor\")\n",
    "print(type(result))\n",
    "pprint(list(result.mappings()))"
   ]
  },
  {
   "cell_type": "code",
   "execution_count": 338,
   "id": "976e8d0c-20e0-4099-b85c-706b4bc0c1d5",
   "metadata": {},
   "outputs": [
    {
     "data": {
      "text/plain": [
       "\"[('For Those About To Rock We Salute You',), ('Let There Be Rock',), ('Deep Purple In Rock',), ('Rock In Rio [CD1]',), ('Rock In Rio [CD2]',), ('Pure Cult: The Best Of The Cult (For Rockers, Ravers, Lovers & Sinners) [UK]',), ('Hot Rocks, 1964-1971 (Disc 1)',)]\""
      ]
     },
     "execution_count": 338,
     "metadata": {},
     "output_type": "execute_result"
    }
   ],
   "source": [
    "db.run(\"SELECT Title FROM Album WHERE Title LIKE '%rock%'\")"
   ]
  },
  {
   "cell_type": "code",
   "execution_count": 339,
   "id": "d93caefa-6788-46d3-a303-952d0ba0344b",
   "metadata": {},
   "outputs": [],
   "source": [
    "input_prompt = \"tables:\\n\" + \"CREATE TABLE Album (Title VARCHAR)\" + \"\\n\" + \"query for:\" + \"give me albums with word love\""
   ]
  },
  {
   "cell_type": "code",
   "execution_count": 340,
   "id": "637cac8d-925d-4a4f-a4ed-299bc27ff898",
   "metadata": {},
   "outputs": [],
   "source": [
    "generated_sql = generate_sql(input_prompt)"
   ]
  },
  {
   "cell_type": "code",
   "execution_count": 341,
   "id": "8d7b41a0-a75f-4a18-9163-7a5406e0792a",
   "metadata": {},
   "outputs": [
    {
     "name": "stdout",
     "output_type": "stream",
     "text": [
      "The generated SQL query is: SELECT Title FROM Album WHERE Title LIKE '%love%'\n"
     ]
    }
   ],
   "source": [
    "print(f\"The generated SQL query is: {generated_sql}\")"
   ]
  },
  {
   "cell_type": "code",
   "execution_count": 342,
   "id": "47296234-2219-44f5-90ef-8b9a424bb3b7",
   "metadata": {},
   "outputs": [
    {
     "data": {
      "text/plain": [
       "\"[('Pure Cult: The Best Of The Cult (For Rockers, Ravers, Lovers & Sinners) [UK]',)]\""
      ]
     },
     "execution_count": 342,
     "metadata": {},
     "output_type": "execute_result"
    }
   ],
   "source": [
    "db.run(\"SELECT Title FROM Album WHERE Title LIKE '%love%'\")"
   ]
  },
  {
   "cell_type": "code",
   "execution_count": 343,
   "id": "a83a5fe0-4d43-4148-80da-b44f1803c0c0",
   "metadata": {},
   "outputs": [],
   "source": [
    "input_prompt = \"tables:\\n\" + \"CREATE TABLE Track (Name VARCHAR)\" + \"\\n\" + \"query for:\" + \"give me track name includes love\""
   ]
  },
  {
   "cell_type": "code",
   "execution_count": 344,
   "id": "cadb00e8-6fd1-4de5-ae66-8c3870742376",
   "metadata": {},
   "outputs": [],
   "source": [
    "generated_sql = generate_sql(input_prompt)"
   ]
  },
  {
   "cell_type": "code",
   "execution_count": 345,
   "id": "0884edab-6e35-40d9-80b5-f1a9898def74",
   "metadata": {},
   "outputs": [
    {
     "name": "stdout",
     "output_type": "stream",
     "text": [
      "The generated SQL query is: SELECT Name FROM Track WHERE Love LIKE '%Love%'\n"
     ]
    }
   ],
   "source": [
    "print(f\"The generated SQL query is: {generated_sql}\")"
   ]
  },
  {
   "cell_type": "code",
   "execution_count": 346,
   "id": "2fb6a8c7-5c5e-407b-92f9-3799ba2c5862",
   "metadata": {},
   "outputs": [
    {
     "data": {
      "text/plain": [
       "'[(\\'Love In An Elevator\\',), (\\'Love, Hate, Love\\',), (\\'Let Me Love You Baby\\',), (\\'My Love\\',), (\\'The Girl I Love She Got Long Black Wavy Hair\\',), (\\'Whole Lotta Love\\',), (\\'Loverman\\',), (\\'Love Gun\\',), (\\'Do You Love Me\\',), (\\'Calling Dr. Love\\',), (\\'Love Is Blind\\',), (\\'Cry For Love\\',), (\\'Living On Love\\',), (\\'Love Of My Life\\',), (\\'Um Love\\',), (\\'Do You Have Other Loves?\\',), (\"Don\\'t Take Your Love From Me\",), (\\'I Need Love\\',), (\\'Love Child\\',), (\"Cascades : I\\'m Not Your Lover\",), (\\'Love Conquers All\\',), (\"Love Don\\'t Mean a Thing\",), (\"You Can\\'t Do it Right (With the One You Love)\",), (\\'Talk About Love\\',), (\\'Love Bites\\',), (\\'When Love & Hate Collide\\',), (\\'Make Love Like A Man\\',), (\\'Sunshine Of Your Love\\',), (\\'Old Love\\',), (\\'She Loves Me Not\\',), (\\'Underwater Love\\',), (\\'What Now My Love\\',), (\\'Summer Love\\',), (\\'Love And Marriage\\',), (\\'Loves Been Good To Me\\',), (\\'Is This Love (Live)\\',), (\"Jesus Of Suburbia / City Of The Damned / I Don\\'t Care / Dearly Beloved / Tales Of Another Broken Home\",), (\\'Love Is The Colour\\',), (\\'Wasting Love\\',), (\\'The Thin Line Between Love & Hate\\',), (\\'Wasting Love\\',), (\\'Wasting Love\\',), (\\'Rollover D.J.\\',), (\\'Love Or Confusion\\',), (\\'May This Be Love\\',), (\\'Turbo Lover\\',), (\\'Do You Love Me\\',), (\\'I Still Love You\\',), (\\'Whole Lotta Love (Medley)\\',), (\\'All My Love\\',), (\\'Whole Lotta Love\\',), (\\'Whole Lotta Love\\',), (\\'Let Love Rule\\',), (\\'Give Me Love\\',), (\\'When I Had Your Love\\',), (\"Gonna Keep On Tryin\\' Till I Win Your Love\",), (\"Gonna Give Her All The Love I\\'ve Got\",), (\\'You Sure Love To Ball\\',), (\\'Heavy Love Affair\\',), (\\'Love Me Like A Reptile\\',), (\\'Dirty Love\\',), (\\'Too Fast For Love\\',), (\\'House Of Love\\',), (\\'Love Boat Captain\\',), (\\'Nothing But Love\\',), (\\'Crazy Little Thing Called Love\\',), (\\'Somebody To Love\\',), (\\'Good Old-Fashioned Lover Boy\\',), (\\'Get Down, Make Love\\',), (\\'The One I Love\\',), (\\'My Lovely Man\\',), (\\'This Velvet Glove\\',), (\"It\\'s Only Love\",), (\\'Stand Inside Your Love\\',), (\\'Real Love\\',), (\\'Loud Love\\',), (\\'Let Me Love You Baby\\',), (\"Love Me Darlin\\'\",), (\\'Love Removal Machine\\',), (\\'Love\\',), (\\'Love Is Strong\\',), (\\'New Love\\',), (\\'Love Is Blindness\\',), (\\'Love Comes Tumbling\\',), (\\'Everlasting Love\\',), (\\'Luminous Times (Hold On To Love)\\',), (\\'Love And Peace Or Else\\',), (\\'Do You Feel Loved\\',), (\\'Pride (In The Name Of Love)\\',), (\\'Love Rescue Me\\',), (\\'When Love Comes To Town\\',), (\\'Pride (In The Name Of Love)\\',), (\\'When Love Comes To Town\\',), (\"(I Can\\'t Help) Falling In Love With You\",), (\"Ain\\'t Talkin\\' \\'bout Love\",), (\"Why Can\\'t This Be Love\",), (\"When It\\'s Love\",), (\"Ain\\'t Talkin\\' \\'Bout Love\",), (\\'Feel Your Love Tonight\\',), (\\'Is This Love\\',), (\"Love Ain\\'t No Stranger\",), (\\'Looking For Love\\',), (\\'The Deeper The Love\\',), (\\'Oh, My Love\\',), (\\'Real Love\\',), (\\'Believe in Love\\',), (\\'Rhythm of Love\\',), (\\'All My Love\\',), (\\'Freestyle Love\\',), (\\'Love Comes\\',), (\\'Arms Around Your Love\\',), (\\'Love Is a Losing Game\\',), (\\'I Heard Love Is Blind\\',), (\\'(There Is) No Greater Love (Teo Licks)\\',)]'"
      ]
     },
     "execution_count": 346,
     "metadata": {},
     "output_type": "execute_result"
    }
   ],
   "source": [
    "# this could be better ... :) \n",
    "db.run(\"SELECT Name FROM Track WHERE name LIKE '%Love%'\")"
   ]
  },
  {
   "cell_type": "code",
   "execution_count": null,
   "id": "3e6d2d84-68ae-481a-82af-7b60cfe12bc2",
   "metadata": {},
   "outputs": [],
   "source": []
  }
 ],
 "metadata": {
  "kernelspec": {
   "display_name": "Python 3 (ipykernel)",
   "language": "python",
   "name": "python3"
  },
  "language_info": {
   "codemirror_mode": {
    "name": "ipython",
    "version": 3
   },
   "file_extension": ".py",
   "mimetype": "text/x-python",
   "name": "python",
   "nbconvert_exporter": "python",
   "pygments_lexer": "ipython3",
   "version": "3.9.13"
  }
 },
 "nbformat": 4,
 "nbformat_minor": 5
}
